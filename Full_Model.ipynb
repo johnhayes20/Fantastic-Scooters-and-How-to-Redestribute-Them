{
 "cells": [
  {
   "cell_type": "code",
   "execution_count": 133,
   "metadata": {},
   "outputs": [],
   "source": [
    "import json\n",
    "import ast\n",
    "import pandas as pd\n",
    "import numpy as np\n",
    "import datetime\n",
    "import matplotlib.pyplot as plt"
   ]
  },
  {
   "cell_type": "code",
   "execution_count": 2,
   "metadata": {},
   "outputs": [],
   "source": [
    "df = pd.read_csv('bird_data-nov24.csv')"
   ]
  },
  {
   "cell_type": "code",
   "execution_count": 3,
   "metadata": {},
   "outputs": [
    {
     "name": "stdout",
     "output_type": "stream",
     "text": [
      "<class 'pandas.core.frame.DataFrame'>\n",
      "RangeIndex: 8389373 entries, 0 to 8389372\n",
      "Data columns (total 8 columns):\n",
      "battery_level     int64\n",
      "captive           bool\n",
      "code              float64\n",
      "id                object\n",
      "location          object\n",
      "location_group    int64\n",
      "time              object\n",
      "time_group        object\n",
      "dtypes: bool(1), float64(1), int64(2), object(4)\n",
      "memory usage: 456.0+ MB\n"
     ]
    }
   ],
   "source": [
    "df.info()"
   ]
  },
  {
   "cell_type": "code",
   "execution_count": 4,
   "metadata": {},
   "outputs": [],
   "source": [
    "df.drop(['code', 'captive', 'battery_level', 'location_group'], axis=1, inplace=True)"
   ]
  },
  {
   "cell_type": "code",
   "execution_count": 5,
   "metadata": {},
   "outputs": [
    {
     "name": "stdout",
     "output_type": "stream",
     "text": [
      "<class 'pandas.core.frame.DataFrame'>\n",
      "RangeIndex: 8389373 entries, 0 to 8389372\n",
      "Data columns (total 4 columns):\n",
      "id            object\n",
      "location      object\n",
      "time          object\n",
      "time_group    object\n",
      "dtypes: object(4)\n",
      "memory usage: 256.0+ MB\n"
     ]
    }
   ],
   "source": [
    "df.info()"
   ]
  },
  {
   "cell_type": "code",
   "execution_count": 11,
   "metadata": {},
   "outputs": [],
   "source": [
    "df['time_group_seconds'] =(pd.to_datetime(df['time_group']) - datetime.datetime(1970,1,1)).dt.total_seconds()\n",
    "df['date'] = pd.to_datetime(df['time_group']).dt.date\n",
    "df = add_rounded_time(df) \n",
    "df = drop_repeated_data(df)"
   ]
  },
  {
   "cell_type": "code",
   "execution_count": 15,
   "metadata": {},
   "outputs": [],
   "source": [
    "df = add_lat_long(df)\n",
    "df['count'] = 1\n",
    "df['grid_location'] = 0"
   ]
  },
  {
   "cell_type": "code",
   "execution_count": 18,
   "metadata": {},
   "outputs": [],
   "source": [
    "#Applies a location based on a grid over Oakland to each scooter\n",
    "df = add_grid_location(df)"
   ]
  },
  {
   "cell_type": "code",
   "execution_count": 21,
   "metadata": {},
   "outputs": [],
   "source": [
    "#Reforms dataframe to calculate count of scooters in each grid location every 15 min\n",
    "df = grid_count(df)"
   ]
  },
  {
   "cell_type": "code",
   "execution_count": 27,
   "metadata": {},
   "outputs": [],
   "source": [
    "og_df = pd.read_csv('bird_data-nov24.csv')\n",
    "og_df.drop(['code', 'captive', 'battery_level', 'location_group'], axis=1, inplace=True)\n",
    "og_df['time_group_seconds'] =(pd.to_datetime(og_df['time_group']) - datetime.datetime(1970,1,1)).dt.total_seconds()\n",
    "og_df['date'] = pd.to_datetime(og_df['time_group']).dt.date\n",
    "og_df = add_rounded_time(og_df) \n",
    "og_df = drop_repeated_data(og_df)\n",
    "og_df = add_lat_long(og_df)\n",
    "og_df['count'] = 1\n",
    "og_df['grid_location'] = 0\n",
    "og_df = add_grid_location(og_df)\n",
    "og_df = add_day_of_week(og_df)\n",
    "og_df = add_rounded_time(og_df)"
   ]
  },
  {
   "cell_type": "code",
   "execution_count": 28,
   "metadata": {},
   "outputs": [],
   "source": [
    "new_df = add_id_list(df, og_df)\n",
    "new_df = add_day_of_week(new_df)\n",
    "\n",
    "new_df = add_idle_and_turnover(new_df)"
   ]
  },
  {
   "cell_type": "code",
   "execution_count": 7,
   "metadata": {},
   "outputs": [],
   "source": [
    "def add_rounded_time(df, interval=15):\n",
    "    '''\n",
    "    Adds a column with the rounded time to the interval specified.\n",
    "    \n",
    "    '''\n",
    "    df['time_of_day'] = pd.to_datetime(df['time_group_seconds'], unit='s').dt.round('15min')  \n",
    "\n",
    "    df_time = pd.to_datetime(df['time_of_day'])\n",
    "\n",
    "    df['time_of_day'] = (pd.to_datetime(df['date']) - datetime.datetime(1970,1,1)).dt.total_seconds() + df_time.dt.hour*3600+df_time.dt.minute*60 + df_time.dt.second\n",
    "    \n",
    "    \n",
    "    return df"
   ]
  },
  {
   "cell_type": "code",
   "execution_count": 8,
   "metadata": {},
   "outputs": [],
   "source": [
    "def drop_repeated_data(df):\n",
    "    '''\n",
    "    Removes repeated data based on id and time_group_seconds - this should cut the data down by more than half\n",
    "    '''\n",
    "    \n",
    "    df.drop_duplicates(subset=['id','time_of_day'], keep='first', inplace=True)\n",
    "    return df"
   ]
  },
  {
   "cell_type": "code",
   "execution_count": 14,
   "metadata": {},
   "outputs": [],
   "source": [
    "def add_lat_long(df):\n",
    "    \n",
    "    df[\"location\"] = df.location.str.replace(\"'\", \"\\\"\").map( lambda x: json.loads(x) )\n",
    "    \n",
    "    df[\"latitude\"] = df[\"location\"].map( lambda x:x[\"latitude\"] )\n",
    "    df[\"longitude\"] = df[\"location\"].map( lambda x:x[\"longitude\"] )\n",
    "    \n",
    "    df.drop(['location'], axis=1, inplace=True)\n",
    "\n",
    "    df['latitude'] = df['latitude'].round(5)\n",
    "    df['longitude'] = df['longitude'].round(5)\n",
    "    \n",
    "    return df"
   ]
  },
  {
   "cell_type": "code",
   "execution_count": 17,
   "metadata": {},
   "outputs": [],
   "source": [
    "def add_grid_location(df, n=42):\n",
    "    \n",
    "    '''\n",
    "    Assigns each data point to a location on the grid according to its lat/long\n",
    "    '''\n",
    "    \n",
    "    top_right = [df['latitude'].max(), df['longitude'].max()]\n",
    "    top_left = [df['latitude'].min(), df['longitude'].min()]\n",
    "    \n",
    "    grid = get_geojson_grid(top_right, top_left, n)\n",
    "    \n",
    "    for i, box in enumerate(grid):\n",
    "        upper_right = box[\"properties\"][\"upper_right\"]\n",
    "        lower_left = box[\"properties\"][\"lower_left\"]\n",
    "    \n",
    "        mask = (\n",
    "            (df.latitude <= upper_right[1]) & (df.latitude >= lower_left[1]) &\n",
    "            (df.longitude <= upper_right[0]) & (df.longitude >= lower_left[0])\n",
    "           )\n",
    "    \n",
    "        column_name = 'grid_location'\n",
    "        df.loc[mask, column_name] = i\n",
    "    \n",
    "    return df\n",
    "\n",
    "def get_geojson_grid(upper_right, lower_left, n=6):\n",
    "    \"\"\"Returns a grid of geojson rectangles, and computes the exposure in each section of the grid based on the vessel data.\n",
    "\n",
    "    Parameters\n",
    "    ----------\n",
    "    upper_right: array_like\n",
    "        The upper right hand corner of \"grid of grids\" (the default is the upper right hand [lat, lon] of the USA).\n",
    "\n",
    "    lower_left: array_like\n",
    "        The lower left hand corner of \"grid of grids\"  (the default is the lower left hand [lat, lon] of the USA).\n",
    "\n",
    "    n: integer\n",
    "        The number of rows/columns in the (n,n) grid.\n",
    "\n",
    "    Returns\n",
    "    -------\n",
    "\n",
    "    list\n",
    "        List of \"geojson style\" dictionary objects   \n",
    "    \"\"\"\n",
    "\n",
    "    all_boxes = []\n",
    "\n",
    "    lat_steps = np.linspace(lower_left[0], upper_right[0], n+1)\n",
    "    lon_steps = np.linspace(lower_left[1], upper_right[1], n+1)\n",
    "\n",
    "    lat_stride = lat_steps[1] - lat_steps[0]\n",
    "    lon_stride = lon_steps[1] - lon_steps[0]\n",
    "\n",
    "    for lat in lat_steps[:-1]:\n",
    "        for lon in lon_steps[:-1]:\n",
    "            # Define dimensions of box in grid\n",
    "            upper_left = [lon, lat + lat_stride]\n",
    "            upper_right = [lon + lon_stride, lat + lat_stride]\n",
    "            lower_right = [lon + lon_stride, lat]\n",
    "            lower_left = [lon, lat]\n",
    "\n",
    "            # Define json coordinates for polygon\n",
    "            coordinates = [\n",
    "                upper_left,\n",
    "                upper_right,\n",
    "                lower_right,\n",
    "                lower_left,\n",
    "                upper_left\n",
    "            ]\n",
    "\n",
    "            geo_json = {\"type\": \"FeatureCollection\",\n",
    "                        \"properties\":{\n",
    "                            \"lower_left\": lower_left,\n",
    "                            \"upper_right\": upper_right\n",
    "                        },\n",
    "                        \"features\":[]}\n",
    "\n",
    "            grid_feature = {\n",
    "                \"type\":\"Feature\",\n",
    "                \"geometry\":{\n",
    "                    \"type\":\"Polygon\",\n",
    "                    \"coordinates\": [coordinates],\n",
    "                }\n",
    "            }\n",
    "\n",
    "            geo_json[\"features\"].append(grid_feature)\n",
    "\n",
    "            all_boxes.append(geo_json)\n",
    "\n",
    "    return all_boxes\n"
   ]
  },
  {
   "cell_type": "code",
   "execution_count": 20,
   "metadata": {},
   "outputs": [],
   "source": [
    "def grid_count(df, n=42):\n",
    "    '''\n",
    "    For a given time, day of the week create df of number of scooters in each grid location\n",
    "    '''\n",
    "    \n",
    "    #COMBINE UNIQUE DATE AND UNIQUE ROUNDED TIME INTO 1 LOOP INSTEAD OF 2\n",
    "    \n",
    "    new_df = pd.DataFrame()\n",
    "    for unique_rounded_time in df['time_of_day'].unique():\n",
    "        for unique_grid_location in range(n**2):\n",
    "            if ((df['time_of_day'] == unique_rounded_time) & (df['grid_location'] == unique_grid_location)).any():\n",
    "                continue\n",
    "            else:\n",
    "                new_df = new_df.append({'time_of_day':unique_rounded_time, 'grid_location':unique_grid_location}, ignore_index=True)\n",
    "    new_df['grid_location'] = new_df['grid_location'].astype(int)                \n",
    "    \n",
    "    df = df.groupby(['time_of_day', 'grid_location']).size().reset_index(name='counts')\n",
    "    df3 = pd.concat([df,new_df], sort=False)\n",
    "    df3.fillna(value=0, inplace=True)\n",
    "    df3.sort_values(by=['grid_location', 'time_of_day'], inplace=True)\n",
    "    #for a given date and rounded time - check to see if there is a grid location, if not set count to 0.\n",
    "    \n",
    "    #df = df.groupby(['grid_location']).agg(['count'])\n",
    "    return df3"
   ]
  },
  {
   "cell_type": "code",
   "execution_count": 24,
   "metadata": {},
   "outputs": [],
   "source": [
    "def add_day_of_week(df):\n",
    "    \n",
    "    df['date'] = pd.to_datetime(df['time_of_day'], unit='s').dt.date\n",
    "    \n",
    "    #df['date'] = pd.to_datetime(df['time_of_day'], unit='s').dt.round(\"D\")\n",
    "    df['day_of_week'] = pd.to_datetime(df['date']).dt.day_name()\n",
    "    \n",
    "    \n",
    "    return df\n",
    "\n",
    "def add_id_list(df, og_df):\n",
    "\n",
    "    g = og_df.groupby(['grid_location', 'time_of_day'])['id'].apply(list).reset_index(name='id_list')\n",
    "\n",
    "    merger_df = pd.merge(df, g, on=['grid_location', 'time_of_day'], how='outer')\n",
    "    \n",
    "    isnull = merger_df.id_list.isnull()\n",
    "\n",
    "    merger_df.loc[isnull, 'id_list'] = [ [[]] * isnull.sum() ]\n",
    "    \n",
    "    return merger_df\n",
    "\n",
    "def add_idle_and_turnover(merger_df):\n",
    "    \n",
    "    group1_master = pd.DataFrame()\n",
    "    group2_master = pd.DataFrame()\n",
    "    for grid_location in merger_df['grid_location'].unique():\n",
    "        \n",
    "        group1 = merger_df[merger_df['grid_location']==grid_location].iloc[:-1]\n",
    "        group1.reset_index(inplace=True)\n",
    "        group1_master = group1_master.append(group1, ignore_index=True)\n",
    "        \n",
    "        group2 = merger_df[merger_df['grid_location']==grid_location].iloc[1:]\n",
    "        group2.reset_index(inplace=True)\n",
    "        group2_master = group2_master.append(group2, ignore_index=True)\n",
    "\n",
    "    df_id_list = group1_master.merge(group2_master, how='outer', left_index=True, right_index=True)\n",
    "    \n",
    "    df_id_list['idle'] = df_id_list.apply(lambda x: [i for i in x['id_list_x'] if i.lower() in x['id_list_y']], axis=1)\n",
    "    \n",
    "    df_id_list['turn_over'] = df_id_list.apply(lambda x: [i for i in x['id_list_y'] if i.lower() not in x['id_list_x']], axis=1)\n",
    "    \n",
    "    df_id_list['num_idle_15min'] = df_id_list['idle'].str.len()\n",
    "    df_id_list['num_turn_over_15min'] = df_id_list['turn_over'].str.len()\n",
    "    \n",
    "    \n",
    "    df_id_list['time'] = df_id_list['time_of_day_y'] - (pd.to_datetime(df_id_list['date_y']) - datetime.datetime(1970,1,1)).dt.total_seconds()\n",
    "    \n",
    "    df_id_list.drop(['index_x','time_of_day_x','grid_location_x','counts_x', 'id_list_x', 'date_x', 'day_of_week_x'], axis=1, inplace=True)\n",
    "    df_id_list = df_id_list.rename(index=str, columns={\"time_of_day_y\": \"time_of_day\", \"grid_location_y\":\"grid_location\", \"counts_y\":\"counts\", \"id_list_y\":\"id_list\", \"date_y\":\"date\", \"day_of_week_y\":\"day_of_week\"})\n",
    "    \n",
    "    df_id_list = pd.concat([df_id_list, pd.get_dummies(df_id_list['day_of_week'])], axis=1)\n",
    "    df_id_list.drop(['index_y','day_of_week','date','id_list','idle', 'turn_over'], axis =1, inplace=True)\n",
    "    \n",
    "    return df_id_list"
   ]
  },
  {
   "cell_type": "code",
   "execution_count": 19,
   "metadata": {},
   "outputs": [
    {
     "name": "stdout",
     "output_type": "stream",
     "text": [
      "<class 'pandas.core.frame.DataFrame'>\n",
      "Int64Index: 475051 entries, 0 to 8388872\n",
      "Data columns (total 10 columns):\n",
      "id                    475051 non-null object\n",
      "time                  475051 non-null object\n",
      "time_group            475051 non-null object\n",
      "time_group_seconds    475051 non-null float64\n",
      "date                  475051 non-null object\n",
      "time_of_day           475051 non-null float64\n",
      "latitude              475051 non-null float64\n",
      "longitude             475051 non-null float64\n",
      "count                 475051 non-null int64\n",
      "grid_location         475051 non-null int64\n",
      "dtypes: float64(4), int64(2), object(4)\n",
      "memory usage: 39.9+ MB\n"
     ]
    }
   ],
   "source": [
    "df.info()"
   ]
  },
  {
   "cell_type": "code",
   "execution_count": 22,
   "metadata": {},
   "outputs": [
    {
     "name": "stdout",
     "output_type": "stream",
     "text": [
      "<class 'pandas.core.frame.DataFrame'>\n",
      "Int64Index: 1044288 entries, 31983 to 939138\n",
      "Data columns (total 3 columns):\n",
      "time_of_day      1044288 non-null float64\n",
      "grid_location    1044288 non-null int64\n",
      "counts           1044288 non-null float64\n",
      "dtypes: float64(2), int64(1)\n",
      "memory usage: 31.9 MB\n"
     ]
    }
   ],
   "source": [
    "df.info()"
   ]
  },
  {
   "cell_type": "code",
   "execution_count": 23,
   "metadata": {},
   "outputs": [],
   "source": [
    "df.to_csv('bird_data-nov24_step1')"
   ]
  },
  {
   "cell_type": "code",
   "execution_count": 30,
   "metadata": {},
   "outputs": [
    {
     "name": "stdout",
     "output_type": "stream",
     "text": [
      "<class 'pandas.core.frame.DataFrame'>\n",
      "Index: 1042524 entries, 0 to 1042523\n",
      "Data columns (total 13 columns):\n",
      "time_of_day            1042524 non-null float64\n",
      "grid_location          1042524 non-null int64\n",
      "counts                 1042524 non-null float64\n",
      "num_idle_15min         1042524 non-null int64\n",
      "num_turn_over_15min    1042524 non-null int64\n",
      "time                   1042524 non-null float64\n",
      "Friday                 1042524 non-null uint8\n",
      "Monday                 1042524 non-null uint8\n",
      "Saturday               1042524 non-null uint8\n",
      "Sunday                 1042524 non-null uint8\n",
      "Thursday               1042524 non-null uint8\n",
      "Tuesday                1042524 non-null uint8\n",
      "Wednesday              1042524 non-null uint8\n",
      "dtypes: float64(3), int64(3), uint8(7)\n",
      "memory usage: 62.6+ MB\n"
     ]
    }
   ],
   "source": [
    "new_df.info()"
   ]
  },
  {
   "cell_type": "code",
   "execution_count": 31,
   "metadata": {},
   "outputs": [],
   "source": [
    "from sklearn.ensemble import RandomForestRegressor\n",
    "from sklearn.model_selection import train_test_split\n",
    "from sklearn.linear_model import LinearRegression\n",
    "from sklearn.model_selection import TimeSeriesSplit\n",
    "from sklearn.neighbors import KNeighborsClassifier\n",
    "from sklearn.metrics import recall_score"
   ]
  },
  {
   "cell_type": "code",
   "execution_count": 32,
   "metadata": {},
   "outputs": [],
   "source": [
    "def MVP(df):\n",
    "    '''\n",
    "    even more mvp than mvp\n",
    "    '''\n",
    "    \n",
    "    y = df['counts']\n",
    "    X = df.drop('counts', axis=1)\n",
    "    \n",
    "    X_train, X_test, y_train, y_test = train_test_split(X, y, shuffle=False)\n",
    "    \n",
    "    \n",
    "    linreg=LinearRegression()\n",
    "    linreg.fit(X_train, y_train)\n",
    "    \n",
    "    y_pred = linreg.predict(X_test).reshape(-1,1)\n",
    "    y_test = np.array(y_test).reshape(-1,1)\n",
    "    \n",
    "    #print(y_pred - y_test)\n",
    "    #print (np.shape(y_pred), np.shape(y_test))\n",
    "    \n",
    "    #print(recall_score(y_test, y_pred))\n",
    "    \n",
    "    #print(y_pred)\n",
    "    print(linreg.coef_)\n",
    "    \n",
    "    return linreg.score(X_test, y_test)\n"
   ]
  },
  {
   "cell_type": "code",
   "execution_count": 33,
   "metadata": {},
   "outputs": [
    {
     "name": "stdout",
     "output_type": "stream",
     "text": [
      "[-2.08977182e-20  1.45445721e-16  1.00000000e+00  1.00000000e+00\n",
      "  7.04731412e-19 -4.54001309e-16 -2.01467692e-15 -6.12224916e-16\n",
      " -1.17291425e-15 -2.68030977e-16 -7.29745696e-16 -2.19706318e-16]\n"
     ]
    },
    {
     "data": {
      "text/plain": [
       "1.0"
      ]
     },
     "execution_count": 33,
     "metadata": {},
     "output_type": "execute_result"
    }
   ],
   "source": [
    "MVP(new_df)"
   ]
  },
  {
   "cell_type": "code",
   "execution_count": 37,
   "metadata": {},
   "outputs": [
    {
     "data": {
      "text/plain": [
       "0.8993107113121617"
      ]
     },
     "execution_count": 37,
     "metadata": {},
     "output_type": "execute_result"
    }
   ],
   "source": [
    "len(new_df[new_df['counts']==0])/len(new_df)"
   ]
  },
  {
   "cell_type": "code",
   "execution_count": 91,
   "metadata": {},
   "outputs": [],
   "source": [
    "def RandFor(df):\n",
    "    \n",
    "    \n",
    "    \n",
    "    y = df['counts']\n",
    "    X = df.drop('counts', axis=1)\n",
    "    \n",
    "    X_train, X_test, y_train, y_test = train_test_split(X, y, shuffle=False)\n",
    "    \n",
    "    \n",
    "    \n",
    "    rf = RandomForestRegressor()\n",
    "    rf.fit(X_train, y_train)\n",
    "    \n",
    "    tscv = TimeSeriesSplit(n_splits=5)\n",
    "    for train_index, test_index in tscv.split(X_train):\n",
    "\n",
    "        X_train1, X_test1 = X_train.iloc[train_index], X_train.iloc[test_index]\n",
    "        y_train1, y_test1 = y_train[train_index], y_train[test_index]\n",
    "        \n",
    "        print(rf.score(X_test1, y_test1))\n",
    "    \n",
    "    \n",
    "    y_predict = rf.predict(X_test)\n",
    "    \n",
    "    \n",
    "    print(y_test.max(), y_predict.max())\n",
    "    print(rf.score(X_test, y_test))\n",
    "    \n",
    "    output = open('rf_model.pkl', 'wb')\n",
    "    pickle.dump(rf, output)\n",
    "    \n",
    "    y_predict_full = rf.predict(X)\n",
    "    residplot(y_predict_full, y)\n",
    "    \n",
    "    return rf"
   ]
  },
  {
   "cell_type": "code",
   "execution_count": 92,
   "metadata": {},
   "outputs": [
    {
     "name": "stdout",
     "output_type": "stream",
     "text": [
      "0.9999798706063756\n",
      "0.9984390867830387\n",
      "0.9998448251780806\n",
      "0.9999749867316335\n",
      "0.9999967821090501\n",
      "4.0 4.0\n",
      "1.0\n"
     ]
    },
    {
     "data": {
      "image/png": "[encoded data removed]",
      "text/plain": [
       "<Figure size 432x288 with 1 Axes>"
      ]
     },
     "metadata": {},
     "output_type": "display_data"
    }
   ],
   "source": [
    "random_forest = RandFor(new_df)"
   ]
  },
  {
   "cell_type": "code",
   "execution_count": 78,
   "metadata": {},
   "outputs": [],
   "source": [
    "import pickle"
   ]
  },
  {
   "cell_type": "code",
   "execution_count": 88,
   "metadata": {},
   "outputs": [],
   "source": [
    "from seaborn import residplot"
   ]
  },
  {
   "cell_type": "code",
   "execution_count": 93,
   "metadata": {},
   "outputs": [
    {
     "data": {
      "text/html": [
       "<div>\n",
       "<style scoped>\n",
       "    .dataframe tbody tr th:only-of-type {\n",
       "        vertical-align: middle;\n",
       "    }\n",
       "\n",
       "    .dataframe tbody tr th {\n",
       "        vertical-align: top;\n",
       "    }\n",
       "\n",
       "    .dataframe thead th {\n",
       "        text-align: right;\n",
       "    }\n",
       "</style>\n",
       "<table border=\"1\" class=\"dataframe\">\n",
       "  <thead>\n",
       "    <tr style=\"text-align: right;\">\n",
       "      <th></th>\n",
       "      <th>time_of_day</th>\n",
       "      <th>grid_location</th>\n",
       "      <th>counts</th>\n",
       "      <th>num_idle_15min</th>\n",
       "      <th>num_turn_over_15min</th>\n",
       "      <th>time</th>\n",
       "      <th>Friday</th>\n",
       "      <th>Monday</th>\n",
       "      <th>Saturday</th>\n",
       "      <th>Sunday</th>\n",
       "      <th>Thursday</th>\n",
       "      <th>Tuesday</th>\n",
       "      <th>Wednesday</th>\n",
       "    </tr>\n",
       "  </thead>\n",
       "  <tbody>\n",
       "    <tr>\n",
       "      <th>0</th>\n",
       "      <td>1.542049e+09</td>\n",
       "      <td>0</td>\n",
       "      <td>0.0</td>\n",
       "      <td>0</td>\n",
       "      <td>0</td>\n",
       "      <td>68400.0</td>\n",
       "      <td>0</td>\n",
       "      <td>1</td>\n",
       "      <td>0</td>\n",
       "      <td>0</td>\n",
       "      <td>0</td>\n",
       "      <td>0</td>\n",
       "      <td>0</td>\n",
       "    </tr>\n",
       "    <tr>\n",
       "      <th>1</th>\n",
       "      <td>1.542050e+09</td>\n",
       "      <td>0</td>\n",
       "      <td>0.0</td>\n",
       "      <td>0</td>\n",
       "      <td>0</td>\n",
       "      <td>69300.0</td>\n",
       "      <td>0</td>\n",
       "      <td>1</td>\n",
       "      <td>0</td>\n",
       "      <td>0</td>\n",
       "      <td>0</td>\n",
       "      <td>0</td>\n",
       "      <td>0</td>\n",
       "    </tr>\n",
       "    <tr>\n",
       "      <th>2</th>\n",
       "      <td>1.542051e+09</td>\n",
       "      <td>0</td>\n",
       "      <td>0.0</td>\n",
       "      <td>0</td>\n",
       "      <td>0</td>\n",
       "      <td>70200.0</td>\n",
       "      <td>0</td>\n",
       "      <td>1</td>\n",
       "      <td>0</td>\n",
       "      <td>0</td>\n",
       "      <td>0</td>\n",
       "      <td>0</td>\n",
       "      <td>0</td>\n",
       "    </tr>\n",
       "    <tr>\n",
       "      <th>3</th>\n",
       "      <td>1.542052e+09</td>\n",
       "      <td>0</td>\n",
       "      <td>0.0</td>\n",
       "      <td>0</td>\n",
       "      <td>0</td>\n",
       "      <td>71100.0</td>\n",
       "      <td>0</td>\n",
       "      <td>1</td>\n",
       "      <td>0</td>\n",
       "      <td>0</td>\n",
       "      <td>0</td>\n",
       "      <td>0</td>\n",
       "      <td>0</td>\n",
       "    </tr>\n",
       "    <tr>\n",
       "      <th>4</th>\n",
       "      <td>1.542053e+09</td>\n",
       "      <td>0</td>\n",
       "      <td>0.0</td>\n",
       "      <td>0</td>\n",
       "      <td>0</td>\n",
       "      <td>72000.0</td>\n",
       "      <td>0</td>\n",
       "      <td>1</td>\n",
       "      <td>0</td>\n",
       "      <td>0</td>\n",
       "      <td>0</td>\n",
       "      <td>0</td>\n",
       "      <td>0</td>\n",
       "    </tr>\n",
       "  </tbody>\n",
       "</table>\n",
       "</div>"
      ],
      "text/plain": [
       "    time_of_day  grid_location  counts  num_idle_15min  num_turn_over_15min  \\\n",
       "0  1.542049e+09              0     0.0               0                    0   \n",
       "1  1.542050e+09              0     0.0               0                    0   \n",
       "2  1.542051e+09              0     0.0               0                    0   \n",
       "3  1.542052e+09              0     0.0               0                    0   \n",
       "4  1.542053e+09              0     0.0               0                    0   \n",
       "\n",
       "      time  Friday  Monday  Saturday  Sunday  Thursday  Tuesday  Wednesday  \n",
       "0  68400.0       0       1         0       0         0        0          0  \n",
       "1  69300.0       0       1         0       0         0        0          0  \n",
       "2  70200.0       0       1         0       0         0        0          0  \n",
       "3  71100.0       0       1         0       0         0        0          0  \n",
       "4  72000.0       0       1         0       0         0        0          0  "
      ]
     },
     "execution_count": 93,
     "metadata": {},
     "output_type": "execute_result"
    }
   ],
   "source": [
    "new_df.head()"
   ]
  },
  {
   "cell_type": "code",
   "execution_count": 104,
   "metadata": {},
   "outputs": [],
   "source": [
    "new_df['redistribute_here_score'] = (new_df['num_turn_over_15min'] / (new_df['num_idle_15min'] + 1)) * (new_df['counts'])"
   ]
  },
  {
   "cell_type": "code",
   "execution_count": 105,
   "metadata": {},
   "outputs": [
    {
     "data": {
      "text/plain": [
       "array([ 0. ,  0. ,  0. , ..., 31. , 34. , 46.5])"
      ]
     },
     "execution_count": 105,
     "metadata": {},
     "output_type": "execute_result"
    }
   ],
   "source": [
    "np.sort(np.array(new_df['redistribute_here_score']))"
   ]
  },
  {
   "cell_type": "code",
   "execution_count": 114,
   "metadata": {},
   "outputs": [
    {
     "data": {
      "text/html": [
       "<div>\n",
       "<style scoped>\n",
       "    .dataframe tbody tr th:only-of-type {\n",
       "        vertical-align: middle;\n",
       "    }\n",
       "\n",
       "    .dataframe tbody tr th {\n",
       "        vertical-align: top;\n",
       "    }\n",
       "\n",
       "    .dataframe thead th {\n",
       "        text-align: right;\n",
       "    }\n",
       "</style>\n",
       "<table border=\"1\" class=\"dataframe\">\n",
       "  <thead>\n",
       "    <tr style=\"text-align: right;\">\n",
       "      <th></th>\n",
       "      <th>time_of_day</th>\n",
       "      <th>grid_location</th>\n",
       "      <th>counts</th>\n",
       "      <th>num_idle_15min</th>\n",
       "      <th>num_turn_over_15min</th>\n",
       "      <th>time</th>\n",
       "      <th>Friday</th>\n",
       "      <th>Monday</th>\n",
       "      <th>Saturday</th>\n",
       "      <th>Sunday</th>\n",
       "      <th>Thursday</th>\n",
       "      <th>Tuesday</th>\n",
       "      <th>Wednesday</th>\n",
       "      <th>redistribute_here_score</th>\n",
       "    </tr>\n",
       "  </thead>\n",
       "  <tbody>\n",
       "    <tr>\n",
       "      <th>count</th>\n",
       "      <td>1.042524e+06</td>\n",
       "      <td>1.042524e+06</td>\n",
       "      <td>1.042524e+06</td>\n",
       "      <td>1.042524e+06</td>\n",
       "      <td>1.042524e+06</td>\n",
       "      <td>1.042524e+06</td>\n",
       "      <td>1.042524e+06</td>\n",
       "      <td>1.042524e+06</td>\n",
       "      <td>1.042524e+06</td>\n",
       "      <td>1.042524e+06</td>\n",
       "      <td>1.042524e+06</td>\n",
       "      <td>1.042524e+06</td>\n",
       "      <td>1.042524e+06</td>\n",
       "      <td>1.042524e+06</td>\n",
       "    </tr>\n",
       "    <tr>\n",
       "      <th>mean</th>\n",
       "      <td>1.542416e+09</td>\n",
       "      <td>8.815000e+02</td>\n",
       "      <td>4.551416e-01</td>\n",
       "      <td>4.072990e-01</td>\n",
       "      <td>4.784254e-02</td>\n",
       "      <td>4.723249e+04</td>\n",
       "      <td>1.167513e-01</td>\n",
       "      <td>1.505922e-01</td>\n",
       "      <td>1.167513e-01</td>\n",
       "      <td>1.167513e-01</td>\n",
       "      <td>1.167513e-01</td>\n",
       "      <td>2.318105e-01</td>\n",
       "      <td>1.505922e-01</td>\n",
       "      <td>1.460174e-02</td>\n",
       "    </tr>\n",
       "    <tr>\n",
       "      <th>std</th>\n",
       "      <td>2.137926e+05</td>\n",
       "      <td>5.092231e+02</td>\n",
       "      <td>2.702850e+00</td>\n",
       "      <td>2.429506e+00</td>\n",
       "      <td>6.085957e-01</td>\n",
       "      <td>2.821782e+04</td>\n",
       "      <td>3.211238e-01</td>\n",
       "      <td>3.576511e-01</td>\n",
       "      <td>3.211238e-01</td>\n",
       "      <td>3.211238e-01</td>\n",
       "      <td>3.211238e-01</td>\n",
       "      <td>4.219888e-01</td>\n",
       "      <td>3.576511e-01</td>\n",
       "      <td>1.761148e-01</td>\n",
       "    </tr>\n",
       "    <tr>\n",
       "      <th>min</th>\n",
       "      <td>1.542049e+09</td>\n",
       "      <td>0.000000e+00</td>\n",
       "      <td>0.000000e+00</td>\n",
       "      <td>0.000000e+00</td>\n",
       "      <td>0.000000e+00</td>\n",
       "      <td>0.000000e+00</td>\n",
       "      <td>0.000000e+00</td>\n",
       "      <td>0.000000e+00</td>\n",
       "      <td>0.000000e+00</td>\n",
       "      <td>0.000000e+00</td>\n",
       "      <td>0.000000e+00</td>\n",
       "      <td>0.000000e+00</td>\n",
       "      <td>0.000000e+00</td>\n",
       "      <td>0.000000e+00</td>\n",
       "    </tr>\n",
       "    <tr>\n",
       "      <th>25%</th>\n",
       "      <td>1.542230e+09</td>\n",
       "      <td>4.407500e+02</td>\n",
       "      <td>0.000000e+00</td>\n",
       "      <td>0.000000e+00</td>\n",
       "      <td>0.000000e+00</td>\n",
       "      <td>1.440000e+04</td>\n",
       "      <td>0.000000e+00</td>\n",
       "      <td>0.000000e+00</td>\n",
       "      <td>0.000000e+00</td>\n",
       "      <td>0.000000e+00</td>\n",
       "      <td>0.000000e+00</td>\n",
       "      <td>0.000000e+00</td>\n",
       "      <td>0.000000e+00</td>\n",
       "      <td>0.000000e+00</td>\n",
       "    </tr>\n",
       "    <tr>\n",
       "      <th>50%</th>\n",
       "      <td>1.542412e+09</td>\n",
       "      <td>8.815000e+02</td>\n",
       "      <td>0.000000e+00</td>\n",
       "      <td>0.000000e+00</td>\n",
       "      <td>0.000000e+00</td>\n",
       "      <td>5.490000e+04</td>\n",
       "      <td>0.000000e+00</td>\n",
       "      <td>0.000000e+00</td>\n",
       "      <td>0.000000e+00</td>\n",
       "      <td>0.000000e+00</td>\n",
       "      <td>0.000000e+00</td>\n",
       "      <td>0.000000e+00</td>\n",
       "      <td>0.000000e+00</td>\n",
       "      <td>0.000000e+00</td>\n",
       "    </tr>\n",
       "    <tr>\n",
       "      <th>75%</th>\n",
       "      <td>1.542594e+09</td>\n",
       "      <td>1.322250e+03</td>\n",
       "      <td>0.000000e+00</td>\n",
       "      <td>0.000000e+00</td>\n",
       "      <td>0.000000e+00</td>\n",
       "      <td>7.110000e+04</td>\n",
       "      <td>0.000000e+00</td>\n",
       "      <td>0.000000e+00</td>\n",
       "      <td>0.000000e+00</td>\n",
       "      <td>0.000000e+00</td>\n",
       "      <td>0.000000e+00</td>\n",
       "      <td>0.000000e+00</td>\n",
       "      <td>0.000000e+00</td>\n",
       "      <td>0.000000e+00</td>\n",
       "    </tr>\n",
       "    <tr>\n",
       "      <th>max</th>\n",
       "      <td>1.542776e+09</td>\n",
       "      <td>1.763000e+03</td>\n",
       "      <td>2.570000e+02</td>\n",
       "      <td>2.430000e+02</td>\n",
       "      <td>1.270000e+02</td>\n",
       "      <td>8.550000e+04</td>\n",
       "      <td>1.000000e+00</td>\n",
       "      <td>1.000000e+00</td>\n",
       "      <td>1.000000e+00</td>\n",
       "      <td>1.000000e+00</td>\n",
       "      <td>1.000000e+00</td>\n",
       "      <td>1.000000e+00</td>\n",
       "      <td>1.000000e+00</td>\n",
       "      <td>4.650000e+01</td>\n",
       "    </tr>\n",
       "  </tbody>\n",
       "</table>\n",
       "</div>"
      ],
      "text/plain": [
       "        time_of_day  grid_location        counts  num_idle_15min  \\\n",
       "count  1.042524e+06   1.042524e+06  1.042524e+06    1.042524e+06   \n",
       "mean   1.542416e+09   8.815000e+02  4.551416e-01    4.072990e-01   \n",
       "std    2.137926e+05   5.092231e+02  2.702850e+00    2.429506e+00   \n",
       "min    1.542049e+09   0.000000e+00  0.000000e+00    0.000000e+00   \n",
       "25%    1.542230e+09   4.407500e+02  0.000000e+00    0.000000e+00   \n",
       "50%    1.542412e+09   8.815000e+02  0.000000e+00    0.000000e+00   \n",
       "75%    1.542594e+09   1.322250e+03  0.000000e+00    0.000000e+00   \n",
       "max    1.542776e+09   1.763000e+03  2.570000e+02    2.430000e+02   \n",
       "\n",
       "       num_turn_over_15min          time        Friday        Monday  \\\n",
       "count         1.042524e+06  1.042524e+06  1.042524e+06  1.042524e+06   \n",
       "mean          4.784254e-02  4.723249e+04  1.167513e-01  1.505922e-01   \n",
       "std           6.085957e-01  2.821782e+04  3.211238e-01  3.576511e-01   \n",
       "min           0.000000e+00  0.000000e+00  0.000000e+00  0.000000e+00   \n",
       "25%           0.000000e+00  1.440000e+04  0.000000e+00  0.000000e+00   \n",
       "50%           0.000000e+00  5.490000e+04  0.000000e+00  0.000000e+00   \n",
       "75%           0.000000e+00  7.110000e+04  0.000000e+00  0.000000e+00   \n",
       "max           1.270000e+02  8.550000e+04  1.000000e+00  1.000000e+00   \n",
       "\n",
       "           Saturday        Sunday      Thursday       Tuesday     Wednesday  \\\n",
       "count  1.042524e+06  1.042524e+06  1.042524e+06  1.042524e+06  1.042524e+06   \n",
       "mean   1.167513e-01  1.167513e-01  1.167513e-01  2.318105e-01  1.505922e-01   \n",
       "std    3.211238e-01  3.211238e-01  3.211238e-01  4.219888e-01  3.576511e-01   \n",
       "min    0.000000e+00  0.000000e+00  0.000000e+00  0.000000e+00  0.000000e+00   \n",
       "25%    0.000000e+00  0.000000e+00  0.000000e+00  0.000000e+00  0.000000e+00   \n",
       "50%    0.000000e+00  0.000000e+00  0.000000e+00  0.000000e+00  0.000000e+00   \n",
       "75%    0.000000e+00  0.000000e+00  0.000000e+00  0.000000e+00  0.000000e+00   \n",
       "max    1.000000e+00  1.000000e+00  1.000000e+00  1.000000e+00  1.000000e+00   \n",
       "\n",
       "       redistribute_here_score  \n",
       "count             1.042524e+06  \n",
       "mean              1.460174e-02  \n",
       "std               1.761148e-01  \n",
       "min               0.000000e+00  \n",
       "25%               0.000000e+00  \n",
       "50%               0.000000e+00  \n",
       "75%               0.000000e+00  \n",
       "max               4.650000e+01  "
      ]
     },
     "execution_count": 114,
     "metadata": {},
     "output_type": "execute_result"
    }
   ],
   "source": [
    "new_df.describe()"
   ]
  },
  {
   "cell_type": "code",
   "execution_count": 124,
   "metadata": {},
   "outputs": [
    {
     "data": {
      "text/plain": [
       "577.0"
      ]
     },
     "execution_count": 124,
     "metadata": {},
     "output_type": "execute_result"
    }
   ],
   "source": [
    "new_df[new_df['time_of_day'] == 1542049200]['counts'].sum()"
   ]
  },
  {
   "cell_type": "code",
   "execution_count": 126,
   "metadata": {},
   "outputs": [],
   "source": [
    "new_df.to_csv('bird_data-nov24_step2.csv')"
   ]
  },
  {
   "cell_type": "code",
   "execution_count": 130,
   "metadata": {},
   "outputs": [],
   "source": [
    "og_df.to_csv('individual_scooter_data.csv')"
   ]
  },
  {
   "cell_type": "code",
   "execution_count": 132,
   "metadata": {},
   "outputs": [
    {
     "data": {
      "text/html": [
       "<div>\n",
       "<style scoped>\n",
       "    .dataframe tbody tr th:only-of-type {\n",
       "        vertical-align: middle;\n",
       "    }\n",
       "\n",
       "    .dataframe tbody tr th {\n",
       "        vertical-align: top;\n",
       "    }\n",
       "\n",
       "    .dataframe thead th {\n",
       "        text-align: right;\n",
       "    }\n",
       "</style>\n",
       "<table border=\"1\" class=\"dataframe\">\n",
       "  <thead>\n",
       "    <tr style=\"text-align: right;\">\n",
       "      <th></th>\n",
       "      <th>time_of_day</th>\n",
       "      <th>grid_location</th>\n",
       "      <th>counts</th>\n",
       "      <th>num_idle_15min</th>\n",
       "      <th>num_turn_over_15min</th>\n",
       "      <th>time</th>\n",
       "      <th>Friday</th>\n",
       "      <th>Monday</th>\n",
       "      <th>Saturday</th>\n",
       "      <th>Sunday</th>\n",
       "      <th>Thursday</th>\n",
       "      <th>Tuesday</th>\n",
       "      <th>Wednesday</th>\n",
       "      <th>redistribute_here_score</th>\n",
       "    </tr>\n",
       "  </thead>\n",
       "  <tbody>\n",
       "    <tr>\n",
       "      <th>0</th>\n",
       "      <td>1.542049e+09</td>\n",
       "      <td>0</td>\n",
       "      <td>0.0</td>\n",
       "      <td>0</td>\n",
       "      <td>0</td>\n",
       "      <td>68400.0</td>\n",
       "      <td>0</td>\n",
       "      <td>1</td>\n",
       "      <td>0</td>\n",
       "      <td>0</td>\n",
       "      <td>0</td>\n",
       "      <td>0</td>\n",
       "      <td>0</td>\n",
       "      <td>0.0</td>\n",
       "    </tr>\n",
       "    <tr>\n",
       "      <th>1</th>\n",
       "      <td>1.542050e+09</td>\n",
       "      <td>0</td>\n",
       "      <td>0.0</td>\n",
       "      <td>0</td>\n",
       "      <td>0</td>\n",
       "      <td>69300.0</td>\n",
       "      <td>0</td>\n",
       "      <td>1</td>\n",
       "      <td>0</td>\n",
       "      <td>0</td>\n",
       "      <td>0</td>\n",
       "      <td>0</td>\n",
       "      <td>0</td>\n",
       "      <td>0.0</td>\n",
       "    </tr>\n",
       "    <tr>\n",
       "      <th>2</th>\n",
       "      <td>1.542051e+09</td>\n",
       "      <td>0</td>\n",
       "      <td>0.0</td>\n",
       "      <td>0</td>\n",
       "      <td>0</td>\n",
       "      <td>70200.0</td>\n",
       "      <td>0</td>\n",
       "      <td>1</td>\n",
       "      <td>0</td>\n",
       "      <td>0</td>\n",
       "      <td>0</td>\n",
       "      <td>0</td>\n",
       "      <td>0</td>\n",
       "      <td>0.0</td>\n",
       "    </tr>\n",
       "    <tr>\n",
       "      <th>3</th>\n",
       "      <td>1.542052e+09</td>\n",
       "      <td>0</td>\n",
       "      <td>0.0</td>\n",
       "      <td>0</td>\n",
       "      <td>0</td>\n",
       "      <td>71100.0</td>\n",
       "      <td>0</td>\n",
       "      <td>1</td>\n",
       "      <td>0</td>\n",
       "      <td>0</td>\n",
       "      <td>0</td>\n",
       "      <td>0</td>\n",
       "      <td>0</td>\n",
       "      <td>0.0</td>\n",
       "    </tr>\n",
       "    <tr>\n",
       "      <th>4</th>\n",
       "      <td>1.542053e+09</td>\n",
       "      <td>0</td>\n",
       "      <td>0.0</td>\n",
       "      <td>0</td>\n",
       "      <td>0</td>\n",
       "      <td>72000.0</td>\n",
       "      <td>0</td>\n",
       "      <td>1</td>\n",
       "      <td>0</td>\n",
       "      <td>0</td>\n",
       "      <td>0</td>\n",
       "      <td>0</td>\n",
       "      <td>0</td>\n",
       "      <td>0.0</td>\n",
       "    </tr>\n",
       "  </tbody>\n",
       "</table>\n",
       "</div>"
      ],
      "text/plain": [
       "    time_of_day  grid_location  counts  num_idle_15min  num_turn_over_15min  \\\n",
       "0  1.542049e+09              0     0.0               0                    0   \n",
       "1  1.542050e+09              0     0.0               0                    0   \n",
       "2  1.542051e+09              0     0.0               0                    0   \n",
       "3  1.542052e+09              0     0.0               0                    0   \n",
       "4  1.542053e+09              0     0.0               0                    0   \n",
       "\n",
       "      time  Friday  Monday  Saturday  Sunday  Thursday  Tuesday  Wednesday  \\\n",
       "0  68400.0       0       1         0       0         0        0          0   \n",
       "1  69300.0       0       1         0       0         0        0          0   \n",
       "2  70200.0       0       1         0       0         0        0          0   \n",
       "3  71100.0       0       1         0       0         0        0          0   \n",
       "4  72000.0       0       1         0       0         0        0          0   \n",
       "\n",
       "   redistribute_here_score  \n",
       "0                      0.0  \n",
       "1                      0.0  \n",
       "2                      0.0  \n",
       "3                      0.0  \n",
       "4                      0.0  "
      ]
     },
     "execution_count": 132,
     "metadata": {},
     "output_type": "execute_result"
    }
   ],
   "source": [
    "new_df.head()"
   ]
  },
  {
   "cell_type": "code",
   "execution_count": 201,
   "metadata": {},
   "outputs": [
    {
     "data": {
      "image/png": "[encoded data removed]",
      "text/plain": [
       "<Figure size 1800x1800 with 1 Axes>"
      ]
     },
     "metadata": {},
     "output_type": "display_data"
    }
   ],
   "source": [
    "plt_df = new_df.sort_values('time')\n",
    "list_idle = []\n",
    "for unique in plt_df['time'].unique():\n",
    "    list_idle.append(plt_df[plt_df['time']==unique]['num_idle_15min'].sum()/9)\n",
    "list_idle\n",
    "list_time = list(plt_df['time'].unique())\n",
    "#plt_df.head()\n",
    "plt.figure(figsize=(10, 10), dpi=180)\n",
    "plt.scatter(list_time_hr, list_idle, c='r', label='Idle');\n",
    "\n",
    "plt.scatter(list_time_hr, list_turn_over, label='Used/Relocated');\n",
    "\n",
    "\n",
    "#plt.title('Idle and Used/Relocated Scooters - Over 8 Days', fontsize=20)\n",
    "plt.xlabel('Time of Day (24hr clock)', fontsize=18)\n",
    "plt.ylabel('Average Number Scooters', fontsize=18)\n",
    "plt.legend(loc='upper left', fontsize=16)\n",
    "#plt.show()\n",
    "plt.savefig('Idle and Used Scooters')"
   ]
  },
  {
   "cell_type": "code",
   "execution_count": 180,
   "metadata": {},
   "outputs": [],
   "source": [
    "\n",
    "list_turn_over = []\n",
    "for unique in plt_df['time'].unique():\n",
    "    list_turn_over.append(plt_df[plt_df['time']==unique]['num_turn_over_15min'].sum()/9)"
   ]
  },
  {
   "cell_type": "code",
   "execution_count": 189,
   "metadata": {},
   "outputs": [
    {
     "data": {
      "text/plain": [
       "Text(0,0.5,'Average Number of Scooters Used')"
      ]
     },
     "execution_count": 189,
     "metadata": {},
     "output_type": "execute_result"
    },
    {
     "data": {
      "image/png": "[encoded data removed]",
      "text/plain": [
       "<Figure size 800x800 with 1 Axes>"
      ]
     },
     "metadata": {},
     "output_type": "display_data"
    }
   ],
   "source": [
    "plt.figure(figsize=(10, 10), dpi=80)\n",
    "\n",
    "plt.scatter(list_time_hr, list_turn_over);\n",
    "\n",
    "plt.title('Used/Relocated Scooters - Over 8 Days')\n",
    "plt.xlabel('Time of Day (24hr clock)')\n",
    "plt.ylabel('Average Number of Scooters Used')"
   ]
  },
  {
   "cell_type": "code",
   "execution_count": null,
   "metadata": {},
   "outputs": [],
   "source": [
    "0 = 4pm\n",
    "20000 = 5.5hrs = 9:30pm"
   ]
  },
  {
   "cell_type": "code",
   "execution_count": 163,
   "metadata": {},
   "outputs": [],
   "source": [
    "list_time_hr = np.array(list_time)\n",
    "list_time_hr = np.divide(list_time_hr, 3600)\n",
    "list_time_hr = list_time_hr+16"
   ]
  },
  {
   "cell_type": "code",
   "execution_count": 164,
   "metadata": {},
   "outputs": [
    {
     "name": "stdout",
     "output_type": "stream",
     "text": [
      "28.0\n",
      "28.25\n",
      "28.5\n",
      "28.75\n",
      "29.0\n",
      "29.25\n",
      "29.5\n",
      "29.75\n",
      "30.0\n",
      "30.25\n",
      "30.5\n",
      "30.75\n",
      "31.0\n",
      "31.25\n",
      "31.5\n",
      "31.75\n",
      "32.0\n",
      "32.25\n",
      "32.5\n",
      "32.75\n",
      "33.0\n",
      "33.25\n",
      "33.5\n",
      "33.75\n",
      "34.0\n",
      "34.25\n",
      "34.5\n",
      "34.75\n",
      "35.0\n",
      "35.25\n",
      "35.5\n",
      "35.75\n",
      "36.0\n",
      "36.25\n",
      "36.5\n",
      "36.75\n",
      "37.0\n",
      "37.25\n",
      "37.5\n",
      "37.75\n",
      "38.0\n",
      "38.25\n",
      "38.5\n",
      "38.75\n",
      "39.0\n",
      "39.25\n",
      "39.5\n",
      "39.75\n"
     ]
    },
    {
     "data": {
      "text/plain": [
       "array([16.  , 16.25, 16.5 , 16.75, 17.  , 17.25, 17.5 , 17.75, 18.  ,\n",
       "       18.25, 18.5 , 18.75, 19.  , 19.25, 19.5 , 19.75, 20.  , 20.25,\n",
       "       20.5 , 20.75, 21.  ,  4.  ,  4.25,  4.5 ,  4.75,  5.  ,  5.25,\n",
       "        5.5 ,  5.75,  6.  ,  6.25,  6.5 ,  6.75,  7.  ,  7.25,  7.5 ,\n",
       "        7.75,  8.  ,  8.25,  8.5 ,  8.75,  9.  ,  9.25,  9.5 ,  9.75,\n",
       "       10.  , 10.25, 10.5 , 10.75, 11.  , 11.25, 11.5 , 11.75, 12.  ,\n",
       "       12.25, 12.5 , 12.75, 13.  , 13.25, 13.5 , 13.75, 14.  , 14.25,\n",
       "       14.5 , 14.75, 15.  , 15.25, 15.5 , 15.75])"
      ]
     },
     "execution_count": 164,
     "metadata": {},
     "output_type": "execute_result"
    }
   ],
   "source": [
    "\n",
    "for i in range(len(list_time_hr)):\n",
    "    if list_time_hr[i] > 24:\n",
    "        print(list_time_hr[i])\n",
    "        list_time_hr[i] = list_time_hr[i]-24\n",
    "list_time_hr"
   ]
  },
  {
   "cell_type": "code",
   "execution_count": 177,
   "metadata": {},
   "outputs": [
    {
     "data": {
      "text/plain": [
       "[790.8888888888889,\n",
       " 839.7777777777778,\n",
       " 818.8888888888889,\n",
       " 823.2222222222222,\n",
       " 833.8888888888889,\n",
       " 831.2222222222222,\n",
       " 832.2222222222222,\n",
       " 829.6666666666666,\n",
       " 824.3333333333334,\n",
       " 819.6666666666666,\n",
       " 813.0,\n",
       " 815.4444444444445,\n",
       " 813.4444444444445,\n",
       " 775.3333333333334,\n",
       " 769.2222222222222,\n",
       " 770.3333333333334,\n",
       " 744.8888888888889,\n",
       " 694.1111111111111,\n",
       " 690.1111111111111,\n",
       " 677.4444444444445,\n",
       " 396.8888888888889,\n",
       " 87.44444444444444,\n",
       " 148.11111111111111,\n",
       " 165.55555555555554,\n",
       " 187.0,\n",
       " 206.11111111111111,\n",
       " 232.11111111111111,\n",
       " 260.1111111111111,\n",
       " 290.77777777777777,\n",
       " 329.0,\n",
       " 375.22222222222223,\n",
       " 435.55555555555554,\n",
       " 513.1111111111111,\n",
       " 594.2222222222222,\n",
       " 639.0,\n",
       " 660.5555555555555,\n",
       " 663.7777777777778,\n",
       " 664.8888888888889,\n",
       " 663.4444444444445,\n",
       " 671.1111111111111,\n",
       " 671.6666666666666,\n",
       " 673.4444444444445,\n",
       " 680.1111111111111,\n",
       " 686.5555555555555,\n",
       " 688.5555555555555,\n",
       " 688.4444444444445,\n",
       " 752.1111111111111,\n",
       " 775.2222222222222,\n",
       " 782.6666666666666,\n",
       " 807.4444444444445,\n",
       " 845.3333333333334,\n",
       " 852.2222222222222,\n",
       " 842.4444444444445,\n",
       " 844.6666666666666,\n",
       " 826.5555555555555,\n",
       " 825.7777777777778,\n",
       " 838.3333333333334,\n",
       " 838.1111111111111,\n",
       " 848.6666666666666,\n",
       " 859.6666666666666,\n",
       " 853.5555555555555,\n",
       " 843.1111111111111,\n",
       " 841.0,\n",
       " 842.3333333333334,\n",
       " 839.3333333333334,\n",
       " 837.7777777777778,\n",
       " 836.1111111111111,\n",
       " 834.4444444444445,\n",
       " 833.1111111111111]"
      ]
     },
     "execution_count": 177,
     "metadata": {},
     "output_type": "execute_result"
    }
   ],
   "source": [
    "list_idle"
   ]
  },
  {
   "cell_type": "code",
   "execution_count": null,
   "metadata": {},
   "outputs": [],
   "source": []
  }
 ],
 "metadata": {
  "kernelspec": {
   "display_name": "Python 3",
   "language": "python",
   "name": "python3"
  },
  "language_info": {
   "codemirror_mode": {
    "name": "ipython",
    "version": 3
   },
   "file_extension": ".py",
   "mimetype": "text/x-python",
   "name": "python",
   "nbconvert_exporter": "python",
   "pygments_lexer": "ipython3",
   "version": "3.6.5"
  }
 },
 "nbformat": 4,
 "nbformat_minor": 2
}
