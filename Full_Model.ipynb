{
 "cells": [
  {
   "cell_type": "code",
   "execution_count": 10,
   "metadata": {},
   "outputs": [],
   "source": [
    "import json\n",
    "import ast\n",
    "import pandas as pd\n",
    "import numpy as np\n",
    "import datetime"
   ]
  },
  {
   "cell_type": "code",
   "execution_count": 2,
   "metadata": {},
   "outputs": [],
   "source": [
    "df = pd.read_csv('bird_data-nov24.csv')"
   ]
  },
  {
   "cell_type": "code",
   "execution_count": 3,
   "metadata": {},
   "outputs": [
    {
     "name": "stdout",
     "output_type": "stream",
     "text": [
      "<class 'pandas.core.frame.DataFrame'>\n",
      "RangeIndex: 8389373 entries, 0 to 8389372\n",
      "Data columns (total 8 columns):\n",
      "battery_level     int64\n",
      "captive           bool\n",
      "code              float64\n",
      "id                object\n",
      "location          object\n",
      "location_group    int64\n",
      "time              object\n",
      "time_group        object\n",
      "dtypes: bool(1), float64(1), int64(2), object(4)\n",
      "memory usage: 456.0+ MB\n"
     ]
    }
   ],
   "source": [
    "df.info()"
   ]
  },
  {
   "cell_type": "code",
   "execution_count": 4,
   "metadata": {},
   "outputs": [],
   "source": [
    "df.drop(['code', 'captive', 'battery_level', 'location_group'], axis=1, inplace=True)"
   ]
  },
  {
   "cell_type": "code",
   "execution_count": 5,
   "metadata": {},
   "outputs": [
    {
     "name": "stdout",
     "output_type": "stream",
     "text": [
      "<class 'pandas.core.frame.DataFrame'>\n",
      "RangeIndex: 8389373 entries, 0 to 8389372\n",
      "Data columns (total 4 columns):\n",
      "id            object\n",
      "location      object\n",
      "time          object\n",
      "time_group    object\n",
      "dtypes: object(4)\n",
      "memory usage: 256.0+ MB\n"
     ]
    }
   ],
   "source": [
    "df.info()"
   ]
  },
  {
   "cell_type": "code",
   "execution_count": 11,
   "metadata": {},
   "outputs": [],
   "source": [
    "df['time_group_seconds'] =(pd.to_datetime(df['time_group']) - datetime.datetime(1970,1,1)).dt.total_seconds()\n",
    "df['date'] = pd.to_datetime(df['time_group']).dt.date\n",
    "df = add_rounded_time(df) \n",
    "df = drop_repeated_data(df)"
   ]
  },
  {
   "cell_type": "code",
   "execution_count": 15,
   "metadata": {},
   "outputs": [],
   "source": [
    "df = add_lat_long(df)\n",
    "df['count'] = 1\n",
    "df['grid_location'] = 0"
   ]
  },
  {
   "cell_type": "code",
   "execution_count": 18,
   "metadata": {},
   "outputs": [],
   "source": [
    "#Applies a location based on a grid over Oakland to each scooter\n",
    "df = add_grid_location(df)"
   ]
  },
  {
   "cell_type": "code",
   "execution_count": 21,
   "metadata": {},
   "outputs": [],
   "source": [
    "#Reforms dataframe to calculate count of scooters in each grid location every 15 min\n",
    "df = grid_count(df)"
   ]
  },
  {
   "cell_type": "code",
   "execution_count": 27,
   "metadata": {},
   "outputs": [],
   "source": [
    "og_df = pd.read_csv('bird_data-nov24.csv')\n",
    "og_df.drop(['code', 'captive', 'battery_level', 'location_group'], axis=1, inplace=True)\n",
    "og_df['time_group_seconds'] =(pd.to_datetime(og_df['time_group']) - datetime.datetime(1970,1,1)).dt.total_seconds()\n",
    "og_df['date'] = pd.to_datetime(og_df['time_group']).dt.date\n",
    "og_df = add_rounded_time(og_df) \n",
    "og_df = drop_repeated_data(og_df)\n",
    "og_df = add_lat_long(og_df)\n",
    "og_df['count'] = 1\n",
    "og_df['grid_location'] = 0\n",
    "og_df = add_grid_location(og_df)\n",
    "og_df = add_day_of_week(og_df)\n",
    "og_df = add_rounded_time(og_df)"
   ]
  },
  {
   "cell_type": "code",
   "execution_count": 28,
   "metadata": {},
   "outputs": [],
   "source": [
    "new_df = add_id_list(df, og_df)\n",
    "new_df = add_day_of_week(new_df)\n",
    "\n",
    "new_df = add_idle_and_turnover(new_df)"
   ]
  },
  {
   "cell_type": "code",
   "execution_count": 7,
   "metadata": {},
   "outputs": [],
   "source": [
    "def add_rounded_time(df, interval=15):\n",
    "    '''\n",
    "    Adds a column with the rounded time to the interval specified.\n",
    "    \n",
    "    '''\n",
    "    df['time_of_day'] = pd.to_datetime(df['time_group_seconds'], unit='s').dt.round('15min')  \n",
    "\n",
    "    df_time = pd.to_datetime(df['time_of_day'])\n",
    "\n",
    "    df['time_of_day'] = (pd.to_datetime(df['date']) - datetime.datetime(1970,1,1)).dt.total_seconds() + df_time.dt.hour*3600+df_time.dt.minute*60 + df_time.dt.second\n",
    "    \n",
    "    \n",
    "    return df"
   ]
  },
  {
   "cell_type": "code",
   "execution_count": 8,
   "metadata": {},
   "outputs": [],
   "source": [
    "def drop_repeated_data(df):\n",
    "    '''\n",
    "    Removes repeated data based on id and time_group_seconds - this should cut the data down by more than half\n",
    "    '''\n",
    "    \n",
    "    df.drop_duplicates(subset=['id','time_of_day'], keep='first', inplace=True)\n",
    "    return df"
   ]
  },
  {
   "cell_type": "code",
   "execution_count": 14,
   "metadata": {},
   "outputs": [],
   "source": [
    "def add_lat_long(df):\n",
    "    \n",
    "    df[\"location\"] = df.location.str.replace(\"'\", \"\\\"\").map( lambda x: json.loads(x) )\n",
    "    \n",
    "    df[\"latitude\"] = df[\"location\"].map( lambda x:x[\"latitude\"] )\n",
    "    df[\"longitude\"] = df[\"location\"].map( lambda x:x[\"longitude\"] )\n",
    "    \n",
    "    df.drop(['location'], axis=1, inplace=True)\n",
    "\n",
    "    df['latitude'] = df['latitude'].round(5)\n",
    "    df['longitude'] = df['longitude'].round(5)\n",
    "    \n",
    "    return df"
   ]
  },
  {
   "cell_type": "code",
   "execution_count": 17,
   "metadata": {},
   "outputs": [],
   "source": [
    "def add_grid_location(df, n=42):\n",
    "    \n",
    "    '''\n",
    "    Assigns each data point to a location on the grid according to its lat/long\n",
    "    '''\n",
    "    \n",
    "    top_right = [df['latitude'].max(), df['longitude'].max()]\n",
    "    top_left = [df['latitude'].min(), df['longitude'].min()]\n",
    "    \n",
    "    grid = get_geojson_grid(top_right, top_left, n)\n",
    "    \n",
    "    for i, box in enumerate(grid):\n",
    "        upper_right = box[\"properties\"][\"upper_right\"]\n",
    "        lower_left = box[\"properties\"][\"lower_left\"]\n",
    "    \n",
    "        mask = (\n",
    "            (df.latitude <= upper_right[1]) & (df.latitude >= lower_left[1]) &\n",
    "            (df.longitude <= upper_right[0]) & (df.longitude >= lower_left[0])\n",
    "           )\n",
    "    \n",
    "        column_name = 'grid_location'\n",
    "        df.loc[mask, column_name] = i\n",
    "    \n",
    "    return df\n",
    "\n",
    "def get_geojson_grid(upper_right, lower_left, n=6):\n",
    "    \"\"\"Returns a grid of geojson rectangles, and computes the exposure in each section of the grid based on the vessel data.\n",
    "\n",
    "    Parameters\n",
    "    ----------\n",
    "    upper_right: array_like\n",
    "        The upper right hand corner of \"grid of grids\" (the default is the upper right hand [lat, lon] of the USA).\n",
    "\n",
    "    lower_left: array_like\n",
    "        The lower left hand corner of \"grid of grids\"  (the default is the lower left hand [lat, lon] of the USA).\n",
    "\n",
    "    n: integer\n",
    "        The number of rows/columns in the (n,n) grid.\n",
    "\n",
    "    Returns\n",
    "    -------\n",
    "\n",
    "    list\n",
    "        List of \"geojson style\" dictionary objects   \n",
    "    \"\"\"\n",
    "\n",
    "    all_boxes = []\n",
    "\n",
    "    lat_steps = np.linspace(lower_left[0], upper_right[0], n+1)\n",
    "    lon_steps = np.linspace(lower_left[1], upper_right[1], n+1)\n",
    "\n",
    "    lat_stride = lat_steps[1] - lat_steps[0]\n",
    "    lon_stride = lon_steps[1] - lon_steps[0]\n",
    "\n",
    "    for lat in lat_steps[:-1]:\n",
    "        for lon in lon_steps[:-1]:\n",
    "            # Define dimensions of box in grid\n",
    "            upper_left = [lon, lat + lat_stride]\n",
    "            upper_right = [lon + lon_stride, lat + lat_stride]\n",
    "            lower_right = [lon + lon_stride, lat]\n",
    "            lower_left = [lon, lat]\n",
    "\n",
    "            # Define json coordinates for polygon\n",
    "            coordinates = [\n",
    "                upper_left,\n",
    "                upper_right,\n",
    "                lower_right,\n",
    "                lower_left,\n",
    "                upper_left\n",
    "            ]\n",
    "\n",
    "            geo_json = {\"type\": \"FeatureCollection\",\n",
    "                        \"properties\":{\n",
    "                            \"lower_left\": lower_left,\n",
    "                            \"upper_right\": upper_right\n",
    "                        },\n",
    "                        \"features\":[]}\n",
    "\n",
    "            grid_feature = {\n",
    "                \"type\":\"Feature\",\n",
    "                \"geometry\":{\n",
    "                    \"type\":\"Polygon\",\n",
    "                    \"coordinates\": [coordinates],\n",
    "                }\n",
    "            }\n",
    "\n",
    "            geo_json[\"features\"].append(grid_feature)\n",
    "\n",
    "            all_boxes.append(geo_json)\n",
    "\n",
    "    return all_boxes\n"
   ]
  },
  {
   "cell_type": "code",
   "execution_count": 20,
   "metadata": {},
   "outputs": [],
   "source": [
    "def grid_count(df, n=42):\n",
    "    '''\n",
    "    For a given time, day of the week create df of number of scooters in each grid location\n",
    "    '''\n",
    "    \n",
    "    #COMBINE UNIQUE DATE AND UNIQUE ROUNDED TIME INTO 1 LOOP INSTEAD OF 2\n",
    "    \n",
    "    new_df = pd.DataFrame()\n",
    "    for unique_rounded_time in df['time_of_day'].unique():\n",
    "        for unique_grid_location in range(n**2):\n",
    "            if ((df['time_of_day'] == unique_rounded_time) & (df['grid_location'] == unique_grid_location)).any():\n",
    "                continue\n",
    "            else:\n",
    "                new_df = new_df.append({'time_of_day':unique_rounded_time, 'grid_location':unique_grid_location}, ignore_index=True)\n",
    "    new_df['grid_location'] = new_df['grid_location'].astype(int)                \n",
    "    \n",
    "    df = df.groupby(['time_of_day', 'grid_location']).size().reset_index(name='counts')\n",
    "    df3 = pd.concat([df,new_df], sort=False)\n",
    "    df3.fillna(value=0, inplace=True)\n",
    "    df3.sort_values(by=['grid_location', 'time_of_day'], inplace=True)\n",
    "    #for a given date and rounded time - check to see if there is a grid location, if not set count to 0.\n",
    "    \n",
    "    #df = df.groupby(['grid_location']).agg(['count'])\n",
    "    return df3"
   ]
  },
  {
   "cell_type": "code",
   "execution_count": 24,
   "metadata": {},
   "outputs": [],
   "source": [
    "def add_day_of_week(df):\n",
    "    \n",
    "    df['date'] = pd.to_datetime(df['time_of_day'], unit='s').dt.date\n",
    "    \n",
    "    #df['date'] = pd.to_datetime(df['time_of_day'], unit='s').dt.round(\"D\")\n",
    "    df['day_of_week'] = pd.to_datetime(df['date']).dt.day_name()\n",
    "    \n",
    "    \n",
    "    return df\n",
    "\n",
    "def add_id_list(df, og_df):\n",
    "\n",
    "    g = og_df.groupby(['grid_location', 'time_of_day'])['id'].apply(list).reset_index(name='id_list')\n",
    "\n",
    "    merger_df = pd.merge(df, g, on=['grid_location', 'time_of_day'], how='outer')\n",
    "    \n",
    "    isnull = merger_df.id_list.isnull()\n",
    "\n",
    "    merger_df.loc[isnull, 'id_list'] = [ [[]] * isnull.sum() ]\n",
    "    \n",
    "    return merger_df\n",
    "\n",
    "def add_idle_and_turnover(merger_df):\n",
    "    \n",
    "    group1_master = pd.DataFrame()\n",
    "    group2_master = pd.DataFrame()\n",
    "    for grid_location in merger_df['grid_location'].unique():\n",
    "        \n",
    "        group1 = merger_df[merger_df['grid_location']==grid_location].iloc[:-1]\n",
    "        group1.reset_index(inplace=True)\n",
    "        group1_master = group1_master.append(group1, ignore_index=True)\n",
    "        \n",
    "        group2 = merger_df[merger_df['grid_location']==grid_location].iloc[1:]\n",
    "        group2.reset_index(inplace=True)\n",
    "        group2_master = group2_master.append(group2, ignore_index=True)\n",
    "\n",
    "    df_id_list = group1_master.merge(group2_master, how='outer', left_index=True, right_index=True)\n",
    "    \n",
    "    df_id_list['idle'] = df_id_list.apply(lambda x: [i for i in x['id_list_x'] if i.lower() in x['id_list_y']], axis=1)\n",
    "    \n",
    "    df_id_list['turn_over'] = df_id_list.apply(lambda x: [i for i in x['id_list_y'] if i.lower() not in x['id_list_x']], axis=1)\n",
    "    \n",
    "    df_id_list['num_idle_15min'] = df_id_list['idle'].str.len()\n",
    "    df_id_list['num_turn_over_15min'] = df_id_list['turn_over'].str.len()\n",
    "    \n",
    "    \n",
    "    df_id_list['time'] = df_id_list['time_of_day_y'] - (pd.to_datetime(df_id_list['date_y']) - datetime.datetime(1970,1,1)).dt.total_seconds()\n",
    "    \n",
    "    df_id_list.drop(['index_x','time_of_day_x','grid_location_x','counts_x', 'id_list_x', 'date_x', 'day_of_week_x'], axis=1, inplace=True)\n",
    "    df_id_list = df_id_list.rename(index=str, columns={\"time_of_day_y\": \"time_of_day\", \"grid_location_y\":\"grid_location\", \"counts_y\":\"counts\", \"id_list_y\":\"id_list\", \"date_y\":\"date\", \"day_of_week_y\":\"day_of_week\"})\n",
    "    \n",
    "    df_id_list = pd.concat([df_id_list, pd.get_dummies(df_id_list['day_of_week'])], axis=1)\n",
    "    df_id_list.drop(['index_y','day_of_week','date','id_list','idle', 'turn_over'], axis =1, inplace=True)\n",
    "    \n",
    "    return df_id_list"
   ]
  },
  {
   "cell_type": "code",
   "execution_count": 19,
   "metadata": {},
   "outputs": [
    {
     "name": "stdout",
     "output_type": "stream",
     "text": [
      "<class 'pandas.core.frame.DataFrame'>\n",
      "Int64Index: 475051 entries, 0 to 8388872\n",
      "Data columns (total 10 columns):\n",
      "id                    475051 non-null object\n",
      "time                  475051 non-null object\n",
      "time_group            475051 non-null object\n",
      "time_group_seconds    475051 non-null float64\n",
      "date                  475051 non-null object\n",
      "time_of_day           475051 non-null float64\n",
      "latitude              475051 non-null float64\n",
      "longitude             475051 non-null float64\n",
      "count                 475051 non-null int64\n",
      "grid_location         475051 non-null int64\n",
      "dtypes: float64(4), int64(2), object(4)\n",
      "memory usage: 39.9+ MB\n"
     ]
    }
   ],
   "source": [
    "df.info()"
   ]
  },
  {
   "cell_type": "code",
   "execution_count": 22,
   "metadata": {},
   "outputs": [
    {
     "name": "stdout",
     "output_type": "stream",
     "text": [
      "<class 'pandas.core.frame.DataFrame'>\n",
      "Int64Index: 1044288 entries, 31983 to 939138\n",
      "Data columns (total 3 columns):\n",
      "time_of_day      1044288 non-null float64\n",
      "grid_location    1044288 non-null int64\n",
      "counts           1044288 non-null float64\n",
      "dtypes: float64(2), int64(1)\n",
      "memory usage: 31.9 MB\n"
     ]
    }
   ],
   "source": [
    "df.info()"
   ]
  },
  {
   "cell_type": "code",
   "execution_count": 23,
   "metadata": {},
   "outputs": [],
   "source": [
    "df.to_csv('bird_data-nov24_step1')"
   ]
  },
  {
   "cell_type": "code",
   "execution_count": 30,
   "metadata": {},
   "outputs": [
    {
     "name": "stdout",
     "output_type": "stream",
     "text": [
      "<class 'pandas.core.frame.DataFrame'>\n",
      "Index: 1042524 entries, 0 to 1042523\n",
      "Data columns (total 13 columns):\n",
      "time_of_day            1042524 non-null float64\n",
      "grid_location          1042524 non-null int64\n",
      "counts                 1042524 non-null float64\n",
      "num_idle_15min         1042524 non-null int64\n",
      "num_turn_over_15min    1042524 non-null int64\n",
      "time                   1042524 non-null float64\n",
      "Friday                 1042524 non-null uint8\n",
      "Monday                 1042524 non-null uint8\n",
      "Saturday               1042524 non-null uint8\n",
      "Sunday                 1042524 non-null uint8\n",
      "Thursday               1042524 non-null uint8\n",
      "Tuesday                1042524 non-null uint8\n",
      "Wednesday              1042524 non-null uint8\n",
      "dtypes: float64(3), int64(3), uint8(7)\n",
      "memory usage: 62.6+ MB\n"
     ]
    }
   ],
   "source": [
    "new_df.info()"
   ]
  },
  {
   "cell_type": "code",
   "execution_count": 31,
   "metadata": {},
   "outputs": [],
   "source": [
    "from sklearn.ensemble import RandomForestRegressor\n",
    "from sklearn.model_selection import train_test_split\n",
    "from sklearn.linear_model import LinearRegression\n",
    "from sklearn.model_selection import TimeSeriesSplit\n",
    "from sklearn.neighbors import KNeighborsClassifier\n",
    "from sklearn.metrics import recall_score"
   ]
  },
  {
   "cell_type": "code",
   "execution_count": 32,
   "metadata": {},
   "outputs": [],
   "source": [
    "def MVP(df):\n",
    "    '''\n",
    "    even more mvp than mvp\n",
    "    '''\n",
    "    \n",
    "    y = df['counts']\n",
    "    X = df.drop('counts', axis=1)\n",
    "    \n",
    "    X_train, X_test, y_train, y_test = train_test_split(X, y, shuffle=False)\n",
    "    \n",
    "    \n",
    "    linreg=LinearRegression()\n",
    "    linreg.fit(X_train, y_train)\n",
    "    \n",
    "    y_pred = linreg.predict(X_test).reshape(-1,1)\n",
    "    y_test = np.array(y_test).reshape(-1,1)\n",
    "    \n",
    "    #print(y_pred - y_test)\n",
    "    #print (np.shape(y_pred), np.shape(y_test))\n",
    "    \n",
    "    #print(recall_score(y_test, y_pred))\n",
    "    \n",
    "    #print(y_pred)\n",
    "    print(linreg.coef_)\n",
    "    \n",
    "    return linreg.score(X_test, y_test)\n"
   ]
  },
  {
   "cell_type": "code",
   "execution_count": 33,
   "metadata": {},
   "outputs": [
    {
     "name": "stdout",
     "output_type": "stream",
     "text": [
      "[-2.08977182e-20  1.45445721e-16  1.00000000e+00  1.00000000e+00\n",
      "  7.04731412e-19 -4.54001309e-16 -2.01467692e-15 -6.12224916e-16\n",
      " -1.17291425e-15 -2.68030977e-16 -7.29745696e-16 -2.19706318e-16]\n"
     ]
    },
    {
     "data": {
      "text/plain": [
       "1.0"
      ]
     },
     "execution_count": 33,
     "metadata": {},
     "output_type": "execute_result"
    }
   ],
   "source": [
    "MVP(new_df)"
   ]
  },
  {
   "cell_type": "code",
   "execution_count": 37,
   "metadata": {},
   "outputs": [
    {
     "data": {
      "text/plain": [
       "0.8993107113121617"
      ]
     },
     "execution_count": 37,
     "metadata": {},
     "output_type": "execute_result"
    }
   ],
   "source": [
    "len(new_df[new_df['counts']==0])/len(new_df)"
   ]
  },
  {
   "cell_type": "code",
   "execution_count": 91,
   "metadata": {},
   "outputs": [],
   "source": [
    "def RandFor(df):\n",
    "    \n",
    "    \n",
    "    \n",
    "    y = df['counts']\n",
    "    X = df.drop('counts', axis=1)\n",
    "    \n",
    "    X_train, X_test, y_train, y_test = train_test_split(X, y, shuffle=False)\n",
    "    \n",
    "    \n",
    "    \n",
    "    rf = RandomForestRegressor()\n",
    "    rf.fit(X_train, y_train)\n",
    "    \n",
    "    tscv = TimeSeriesSplit(n_splits=5)\n",
    "    for train_index, test_index in tscv.split(X_train):\n",
    "\n",
    "        X_train1, X_test1 = X_train.iloc[train_index], X_train.iloc[test_index]\n",
    "        y_train1, y_test1 = y_train[train_index], y_train[test_index]\n",
    "        \n",
    "        print(rf.score(X_test1, y_test1))\n",
    "    \n",
    "    \n",
    "    y_predict = rf.predict(X_test)\n",
    "    \n",
    "    \n",
    "    print(y_test.max(), y_predict.max())\n",
    "    print(rf.score(X_test, y_test))\n",
    "    \n",
    "    output = open('rf_model.pkl', 'wb')\n",
    "    pickle.dump(rf, output)\n",
    "    \n",
    "    y_predict_full = rf.predict(X)\n",
    "    residplot(y_predict_full, y)\n",
    "    \n",
    "    return rf"
   ]
  },
  {
   "cell_type": "code",
   "execution_count": 92,
   "metadata": {},
   "outputs": [
    {
     "name": "stdout",
     "output_type": "stream",
     "text": [
      "0.9999798706063756\n",
      "0.9984390867830387\n",
      "0.9998448251780806\n",
      "0.9999749867316335\n",
      "0.9999967821090501\n",
      "4.0 4.0\n",
      "1.0\n"
     ]
    },
    {
     "data": {
      "image/png": "[encoded data removed]",
      "text/plain": [
       "<Figure size 432x288 with 1 Axes>"
      ]
     },
     "metadata": {},
     "output_type": "display_data"
    }
   ],
   "source": [
    "random_forest = RandFor(new_df)"
   ]
  },
  {
   "cell_type": "code",
   "execution_count": 78,
   "metadata": {},
   "outputs": [],
   "source": [
    "import pickle"
   ]
  },
  {
   "cell_type": "code",
   "execution_count": 88,
   "metadata": {},
   "outputs": [],
   "source": [
    "from seaborn import residplot"
   ]
  },
  {
   "cell_type": "code",
   "execution_count": null,
   "metadata": {},
   "outputs": [],
   "source": []
  }
 ],
 "metadata": {
  "kernelspec": {
   "display_name": "Python 3",
   "language": "python",
   "name": "python3"
  },
  "language_info": {
   "codemirror_mode": {
    "name": "ipython",
    "version": 3
   },
   "file_extension": ".py",
   "mimetype": "text/x-python",
   "name": "python",
   "nbconvert_exporter": "python",
   "pygments_lexer": "ipython3",
   "version": "3.6.5"
  }
 },
 "nbformat": 4,
 "nbformat_minor": 2
}
