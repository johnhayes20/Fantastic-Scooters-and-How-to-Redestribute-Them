{
 "cells": [
  {
   "cell_type": "code",
   "execution_count": 113,
   "metadata": {},
   "outputs": [],
   "source": [
    "import requests\n",
    "import uuid\n",
    "import json\n",
    "import pandas as pd\n",
    "import numpy as np\n",
    "import datetime\n",
    "from time import sleep"
   ]
  },
  {
   "cell_type": "code",
   "execution_count": null,
   "metadata": {},
   "outputs": [],
   "source": [
    "def get_token():\n",
    "    r = requests.post(\"https://api.bird.co/user/login\", \n",
    "                  json={\"email\": \"john.hayes.21@gmail.com\"}, \n",
    "                  headers={\"device-id\": device_id, 'platform': 'ios',  'content-type': 'application/json'})\n",
    "    token = 'Bird ' + r.json()['token']"
   ]
  },
  {
   "cell_type": "markdown",
   "metadata": {},
   "source": [
    "'app-version':'3.0.5'"
   ]
  },
  {
   "cell_type": "code",
   "execution_count": 101,
   "metadata": {},
   "outputs": [],
   "source": [
    "location_data = access_bird_api()"
   ]
  },
  {
   "cell_type": "code",
   "execution_count": 51,
   "metadata": {},
   "outputs": [
    {
     "data": {
      "text/plain": [
       "37.81229333333333"
      ]
     },
     "execution_count": 51,
     "metadata": {},
     "output_type": "execute_result"
    }
   ],
   "source": [
    "max(latitude)"
   ]
  },
  {
   "cell_type": "code",
   "execution_count": 52,
   "metadata": {},
   "outputs": [
    {
     "data": {
      "text/plain": [
       "37.79572666666666"
      ]
     },
     "execution_count": 52,
     "metadata": {},
     "output_type": "execute_result"
    }
   ],
   "source": [
    "min(latitude)"
   ]
  },
  {
   "cell_type": "code",
   "execution_count": 56,
   "metadata": {},
   "outputs": [
    {
     "data": {
      "text/plain": [
       "-122.26321333333333"
      ]
     },
     "execution_count": 56,
     "metadata": {},
     "output_type": "execute_result"
    }
   ],
   "source": [
    "max(longitude)"
   ]
  },
  {
   "cell_type": "code",
   "execution_count": 57,
   "metadata": {},
   "outputs": [
    {
     "data": {
      "text/plain": [
       "-122.27820666666666"
      ]
     },
     "execution_count": 57,
     "metadata": {},
     "output_type": "execute_result"
    }
   ],
   "source": [
    "min(longitude)"
   ]
  },
  {
   "cell_type": "code",
   "execution_count": 103,
   "metadata": {},
   "outputs": [
    {
     "data": {
      "text/plain": [
       "37.812355000000004"
      ]
     },
     "execution_count": 103,
     "metadata": {},
     "output_type": "execute_result"
    }
   ],
   "source": [
    "max(latitude)"
   ]
  },
  {
   "cell_type": "markdown",
   "metadata": {},
   "source": [
    "                            lat         long\n",
    "Northern most point Oakland: 37.881248, -122.241517 <br/>\n",
    "Western most point Oakland: 37.804793, -122.341080 <br/>\n",
    "Eastern most point Oakland: 37.760835, -122.123413 <br/>\n",
    "Southern most point Oakland: 37.700012, -122.215424 <br/>"
   ]
  },
  {
   "cell_type": "code",
   "execution_count": 86,
   "metadata": {},
   "outputs": [
    {
     "data": {
      "text/plain": [
       "0.016620000000003188"
      ]
     },
     "execution_count": 86,
     "metadata": {},
     "output_type": "execute_result"
    }
   ],
   "source": [
    "max(latitude)-min(latitude)"
   ]
  },
  {
   "cell_type": "code",
   "execution_count": 87,
   "metadata": {},
   "outputs": [
    {
     "data": {
      "text/plain": [
       "10.904693140792036"
      ]
     },
     "execution_count": 87,
     "metadata": {},
     "output_type": "execute_result"
    }
   ],
   "source": [
    "(37.881248 - 37.700012)/0.016620000000003188"
   ]
  },
  {
   "cell_type": "code",
   "execution_count": 88,
   "metadata": {},
   "outputs": [
    {
     "data": {
      "text/plain": [
       "0.015518333333361056"
      ]
     },
     "execution_count": 88,
     "metadata": {},
     "output_type": "execute_result"
    }
   ],
   "source": [
    "max(longitude)-min(longitude)"
   ]
  },
  {
   "cell_type": "code",
   "execution_count": 90,
   "metadata": {},
   "outputs": [
    {
     "data": {
      "text/plain": [
       "-14.026441842956737"
      ]
     },
     "execution_count": 90,
     "metadata": {},
     "output_type": "execute_result"
    }
   ],
   "source": [
    "(-122.341080-(-122.123413))/0.015518333333361056"
   ]
  },
  {
   "cell_type": "code",
   "execution_count": 91,
   "metadata": {},
   "outputs": [
    {
     "data": {
      "text/plain": [
       "152.95404415460874"
      ]
     },
     "execution_count": 91,
     "metadata": {},
     "output_type": "execute_result"
    }
   ],
   "source": [
    "10.904693140792036*14.026441842956737"
   ]
  },
  {
   "cell_type": "code",
   "execution_count": 99,
   "metadata": {},
   "outputs": [
    {
     "data": {
      "text/plain": [
       "1833.5184000003517"
      ]
     },
     "execution_count": 99,
     "metadata": {},
     "output_type": "execute_result"
    }
   ],
   "source": [
    "110320*0.016620000000003188"
   ]
  },
  {
   "cell_type": "code",
   "execution_count": null,
   "metadata": {},
   "outputs": [],
   "source": [
    "North West 37.846555, -122.303658\n",
    "South West 37.778476, -122.303658\n",
    "North East 37.846555, -122.207184\n",
    "South East 37.778476, -122.207184\n",
    "\n"
   ]
  },
  {
   "cell_type": "code",
   "execution_count": 106,
   "metadata": {},
   "outputs": [
    {
     "data": {
      "text/plain": [
       "0.24412814524305737"
      ]
     },
     "execution_count": 106,
     "metadata": {},
     "output_type": "execute_result"
    }
   ],
   "source": [
    "0.016620000000003188/(37.846555-37.778476)"
   ]
  },
  {
   "cell_type": "code",
   "execution_count": null,
   "metadata": {},
   "outputs": [],
   "source": [
    "cen_lat = 37.803165\n",
    "cen_lon = -122.236710\n",
    "distance = 0.0155\n",
    "\n",
    "\n",
    "lat_long = np.array[[37.803165, -122.236710]\n",
    "                   \n",
    "                   \n",
    "                   \n",
    "                   ]"
   ]
  },
  {
   "cell_type": "code",
   "execution_count": 109,
   "metadata": {},
   "outputs": [
    {
     "data": {
      "text/plain": [
       "0.062"
      ]
     },
     "execution_count": 109,
     "metadata": {},
     "output_type": "execute_result"
    }
   ],
   "source": [
    "0.0155*4"
   ]
  },
  {
   "cell_type": "code",
   "execution_count": 111,
   "metadata": {},
   "outputs": [
    {
     "data": {
      "text/plain": [
       "1709.96"
      ]
     },
     "execution_count": 111,
     "metadata": {},
     "output_type": "execute_result"
    }
   ],
   "source": [
    "0.0155*110320"
   ]
  },
  {
   "cell_type": "code",
   "execution_count": null,
   "metadata": {},
   "outputs": [],
   "source": [
    "New Center of Oakland: 37.808136,-122.256303"
   ]
  },
  {
   "cell_type": "code",
   "execution_count": 129,
   "metadata": {},
   "outputs": [],
   "source": [
    "#center latitude\n",
    "lat = 37.808136\n",
    "#center longitude\n",
    "lon = -122.256303\n",
    "#radius\n",
    "r = 0.0155\n",
    "\n",
    "\n",
    "lat_long = np.array([[lat+(2*r), lon+(-2.5*r)], [lat+(2*r), lon+(-1.5*r)], [lat+(2*r), lon+(-.5*r)], [lat+(2*r), lon+(.5*r)], [lat+(2*r), lon+(1.5*r)], [lat+(2*r), lon+(2.5*r)],\n",
    "                     [lat+(1*r), lon+(-2.5*r)], [lat+(1*r), lon+(-1.5*r)], [lat+(1*r), lon+(-.5*r)], [lat+(1*r), lon+(.5*r)], [lat+(1*r), lon+(1.5*r)], [lat+(1*r), lon+(2.5*r)],\n",
    "                     [lat+(0*r), lon+(-2.5*r)], [lat+(0*r), lon+(-1.5*r)], [lat+(0*r), lon+(-.5*r)], [lat+(0*r), lon+(.5*r)], [lat+(0*r), lon+(1.5*r)], [lat+(0*r), lon+(2.5*r)],\n",
    "                     [lat+(-1*r), lon+(-2.5*r)], [lat+(-1*r), lon+(-1.5*r)], [lat+(-1*r), lon+(-.5*r)], [lat+(-1*r), lon+(.5*r)], [lat+(-1*r), lon+(1.5*r)], [lat+(-1*r), lon+(2.5*r)],\n",
    "                     [lat+(-2*r), lon+(-2.5*r)], [lat+(-2*r), lon+(-1.5*r)], [lat+(-2*r), lon+(-.5*r)], [lat+(-2*r), lon+(.5*r)], [lat+(-2*r), lon+(1.5*r)], [lat+(-2*r), lon+(2.5*r)]])\n"
   ]
  },
  {
   "cell_type": "code",
   "execution_count": 153,
   "metadata": {},
   "outputs": [],
   "source": [
    "def access_bird_api_30():\n",
    "    \n",
    "    \n",
    "    #Oakland center latitude\n",
    "    lat = 37.808136\n",
    "    #Oakland center longitude\n",
    "    lon = -122.256303\n",
    "    #width of squares\n",
    "    r = 0.0155\n",
    "    lat_long = np.array([[lat+(2*r), lon+(-2.5*r)], [lat+(2*r), lon+(-1.5*r)], [lat+(2*r), lon+(-.5*r)], [lat+(2*r), lon+(.5*r)], [lat+(2*r), lon+(1.5*r)], [lat+(2*r), lon+(2.5*r)],\n",
    "                     [lat+(1*r), lon+(-2.5*r)], [lat+(1*r), lon+(-1.5*r)], [lat+(1*r), lon+(-.5*r)], [lat+(1*r), lon+(.5*r)], [lat+(1*r), lon+(1.5*r)], [lat+(1*r), lon+(2.5*r)],\n",
    "                     [lat+(0*r), lon+(-2.5*r)], [lat+(0*r), lon+(-1.5*r)], [lat+(0*r), lon+(-.5*r)], [lat+(0*r), lon+(.5*r)], [lat+(0*r), lon+(1.5*r)], [lat+(0*r), lon+(2.5*r)],\n",
    "                     [lat+(-1*r), lon+(-2.5*r)], [lat+(-1*r), lon+(-1.5*r)], [lat+(-1*r), lon+(-.5*r)], [lat+(-1*r), lon+(.5*r)], [lat+(-1*r), lon+(1.5*r)], [lat+(-1*r), lon+(2.5*r)],\n",
    "                     [lat+(-2*r), lon+(-2.5*r)], [lat+(-2*r), lon+(-1.5*r)], [lat+(-2*r), lon+(-.5*r)], [lat+(-2*r), lon+(.5*r)], [lat+(-2*r), lon+(1.5*r)], [lat+(-2*r), lon+(2.5*r)]])\n",
    "\n",
    "    #randomly generated number used in requests.get\n",
    "    device_id = str(uuid.uuid4())\n",
    "    \n",
    "    #Open token.txt to grab api access token\n",
    "    token_file = open('token.txt', 'r')\n",
    "    token = 'Bird ' + token_file.readlines()[0]\n",
    "    \n",
    "    # first time, write with header\n",
    "    \n",
    "    g = requests.get(url= 'https://api.bird.co/bird/nearby?latitude='+str(lat_long[0][0])+'&longitude='+str(lat_long[0][1])+'&radius=1000',\n",
    "                    headers= {'authorization': token, 'device-id':device_id, 'app-version':'4.7.3.1', 'location': '{\"latitude\":'+str(lat_long[0][0])+',\"longitude\":'+str(lat_long[0][1])+'}', 'radius':'1000'}\n",
    "                    )\n",
    "\n",
    "    #Add time column\n",
    "    now = str(datetime.datetime.now())\n",
    "    data = g.json()\n",
    "    for j in range(len(data['birds'])):\n",
    "        data['birds'][j]['time'] = now\n",
    "\n",
    "    bird_df = pd.DataFrame.from_records(data['birds'])\n",
    "    print(bird_df)\n",
    "    with open('bird_data.csv', mode='a') as f:\n",
    "        f.write(bird_df.to_csv(header=True))\n",
    "    \n",
    "    for i in range(len(lat_long)):\n",
    "            sleep(4)\n",
    "            if i == 1:\n",
    "                continue\n",
    "            g = requests.get(url= 'https://api.bird.co/bird/nearby?latitude='+str(lat_long[i][0])+'&longitude='+str(lat_long[i][1])+'&radius=1000',\n",
    "                            headers= {'authorization': token, 'device-id':device_id, 'app-version':'4.7.3.1', 'location': '{\"latitude\":'+str(lat_long[i][0])+',\"longitude\":'+str(lat_long[i][1])+'}', 'radius':'1000'}\n",
    "                            )\n",
    "\n",
    "            #Add time column\n",
    "            now = str(datetime.datetime.now())\n",
    "            data = g.json()\n",
    "            for j in range(len(data['birds'])):\n",
    "                data['birds'][j]['time'] = now\n",
    "\n",
    "            bird_df = pd.DataFrame.from_records(data['birds'])\n",
    "            print(bird_df)\n",
    "            with open('bird_data.csv', mode='a') as f:\n",
    "                f.write(bird_df.to_csv(header=False))\n",
    "    \n",
    "    \n",
    "    \n",
    "    while True:\n",
    "        for i in range(len(lat_long)):\n",
    "            sleep(4)\n",
    "            g = requests.get(url= 'https://api.bird.co/bird/nearby?latitude='+str(lat_long[i][0])+'&longitude='+str(lat_long[i][1])+'&radius=1000',\n",
    "                            headers= {'authorization': token, 'device-id':device_id, 'app-version':'4.7.3.1', 'location': '{\"latitude\":'+str(lat_long[i][0])+',\"longitude\":'+str(lat_long[i][1])+'}', 'radius':'1000'}\n",
    "                            )\n",
    "\n",
    "            #Add time column\n",
    "            now = str(datetime.datetime.now())\n",
    "            data = g.json()\n",
    "            for j in range(len(data['birds'])):\n",
    "                data['birds'][j]['time'] = now\n",
    "\n",
    "            bird_df = pd.DataFrame.from_records(data['birds'])\n",
    "            print(bird_df)\n",
    "            with open('bird_data.csv', mode='a') as f:\n",
    "                f.write(bird_df.to_csv(header=False))"
   ]
  },
  {
   "cell_type": "code",
   "execution_count": 154,
   "metadata": {},
   "outputs": [
    {
     "name": "stdout",
     "output_type": "stream",
     "text": [
      "     battery_level  captive code                                    id  \\\n",
      "0               44    False       cd6ff74b-cba6-49fe-b115-cec6066fe919   \n",
      "1               65    False       a10576fa-0a11-424e-a5d1-2b098697bbe3   \n",
      "2               42    False       b49f69d6-8129-4c49-8ba1-bb6b3c003a4b   \n",
      "3               39    False       b7ac0ffe-77dd-40dc-82f1-cb59e0f6fb6b   \n",
      "4               81    False       7e9d6f7f-90ba-4205-b040-1c5025512467   \n",
      "5               96    False       7894be32-1a47-445c-9ea8-80c5ea91d2be   \n",
      "6               48    False       a00053b9-f56a-4d24-aceb-fbd5d8e79a86   \n",
      "7               44    False       2ecdecab-32b6-43fe-a9bc-c34dfb73e823   \n",
      "8               42    False       a74cfe82-5c58-4bf9-896d-8c2ff7f4b63b   \n",
      "9               68    False       87f744f1-cad9-47b1-8474-e78516c0fb58   \n",
      "10             100    False       77f3758b-e4f8-4881-9ee3-ae27154d7734   \n",
      "11              66    False       8b894db9-9efd-4adc-a0be-b4c392d41dc0   \n",
      "12              67    False       3028a785-69a3-400f-9bb5-fe7d17d84f70   \n",
      "13              26    False       d7b8b03b-1aca-4c79-8d2b-77802b69e187   \n",
      "14              41    False       4a8180a5-4bb0-4b16-95fb-eea73c39c186   \n",
      "15              32    False       85e5e2f3-fdcd-4bfc-8fed-66898176487c   \n",
      "16              95    False       204ea779-fe33-40cc-abe5-4c7e2a8a1529   \n",
      "17              75    False       92a69519-34dc-4d69-8fec-f24003ef30bf   \n",
      "18              44    False       5a687930-d74e-4aa7-819a-42812c055363   \n",
      "19              49    False       5b791d8a-9865-4efc-887c-ef9f6c655c58   \n",
      "20              43    False       d54a8fea-2d13-4600-b843-909c79eabbb1   \n",
      "21              84    False       e337ae14-b32c-4404-8643-154cc9aa12e6   \n",
      "22              43    False       870ce6e7-4351-4252-a7a5-6dfe61f2d9e7   \n",
      "23              80    False       8e34584c-c02d-47ed-84e4-b1e2e39d11a3   \n",
      "24              60    False       0c15aac9-b5ca-4465-aabc-7d71aa9e86b0   \n",
      "25              64    False       be9ec3ab-cc55-4414-bd3a-a7273a73a359   \n",
      "26              18    False       945226bb-3fd8-4505-96af-27066c8df4bd   \n",
      "27              75    False       a6dc5e48-e019-4864-be6f-ce4ef5cbec96   \n",
      "28              47    False       4bac60d3-0178-4254-bac2-ccef955c052f   \n",
      "29              95    False       a8779b7a-691c-470b-bc7e-e1cfd368ba16   \n",
      "..             ...      ...  ...                                   ...   \n",
      "220             48    False       f7763ba8-8303-480d-bb93-30f33abc0f70   \n",
      "221             56    False       4d976ca5-62ca-41c5-b8ab-5e3405fa9293   \n",
      "222             45    False       9554f4dc-bc0a-4552-9076-96bd473e2826   \n",
      "223            100    False       85ad4746-6403-4107-8447-23c19c4567fd   \n",
      "224             55    False       cca03ea0-ef40-4b1e-9487-c1ca0e575096   \n",
      "225             72    False       2fc02530-c021-4bfd-9a4c-404b0e62adf6   \n",
      "226             60    False       f1eb8f28-0e8b-4b28-915d-d8e66d9f741b   \n",
      "227             59    False       94b5de06-f5f2-4260-9742-4a159274c18e   \n",
      "228             97    False       bacf92e9-fddf-46da-8003-114683c114f2   \n",
      "229             85    False       4a4339a1-a536-4fa7-a5fa-41433a673265   \n",
      "230             56    False       2aa222ba-7376-4c05-9fae-1918193650be   \n",
      "231             31    False       fa01850a-2586-40dc-a7df-2c5f8b1a4bc9   \n",
      "232             81    False       eccf6501-4d6d-4e28-b2ca-dade8d05c66b   \n",
      "233             54    False       d7a98410-efd5-4e95-b05d-44b74f849b99   \n",
      "234             96    False       76a03f46-a878-42f1-8b42-c8818df01b07   \n",
      "235             51    False       bea0ef45-d8b9-45b9-99b9-d91c7dfae33e   \n",
      "236             57    False       a541854e-76d9-4039-aebe-d0f397b57b56   \n",
      "237             79    False       83c7b02a-8eb6-435c-b9d0-3851b5b11e85   \n",
      "238             88    False       40493ff6-9163-4e60-bef9-23a3c6fc7284   \n",
      "239             97    False       37a31cac-e5fc-43e1-b4a4-2426e51dacaf   \n",
      "240             98    False       91118c9f-de45-47fb-873b-24f02334f9c3   \n",
      "241             98    False       fcbde549-e55a-435a-93e7-67fbaf256cc6   \n",
      "242             96    False       b6090393-7d06-4031-8f7a-85f38684912e   \n",
      "243             56    False       7fdff62f-231e-4036-bfa8-6f52aee81a78   \n",
      "244             99    False       53270adf-2ad6-4fc4-9890-522eb2bcee8c   \n",
      "245             83    False       6cd2e614-3a9f-4591-85e1-2c13e70e02a7   \n",
      "246             64    False       d7eca14c-9081-4a78-9163-1fd62f53de12   \n",
      "247             49    False       26dc6e84-a6f2-4779-bd98-cc959b69e450   \n",
      "248             96    False       6c7bef97-7fb6-4c73-84e4-4c2016690d97   \n",
      "249             98    False       52b58186-4398-43a2-a43d-a818cb70a188   \n",
      "\n",
      "                                              location  \\\n",
      "0    {'latitude': 37.845238333333334, 'longitude': ...   \n",
      "1    {'latitude': 37.84620333333333, 'longitude': -...   \n",
      "2    {'latitude': 37.840615, 'longitude': -122.2795...   \n",
      "3    {'latitude': 37.846165, 'longitude': -122.2802...   \n",
      "4    {'latitude': 37.82901898029989, 'longitude': -...   \n",
      "5    {'latitude': 37.83113166666667, 'longitude': -...   \n",
      "6    {'latitude': 37.826135773246946, 'longitude': ...   \n",
      "7    {'latitude': 37.826053333333334, 'longitude': ...   \n",
      "8    {'latitude': 37.82603833333334, 'longitude': -...   \n",
      "9    {'latitude': 37.841121666666666, 'longitude': ...   \n",
      "10   {'latitude': 37.826209999999996, 'longitude': ...   \n",
      "11   {'latitude': 37.820796666666666, 'longitude': ...   \n",
      "12   {'latitude': 37.838031666666666, 'longitude': ...   \n",
      "13   {'latitude': 37.839034999999996, 'longitude': ...   \n",
      "14   {'latitude': 37.828044999999996, 'longitude': ...   \n",
      "15   {'latitude': 37.83102833333333, 'longitude': -...   \n",
      "16    {'latitude': 37.82177, 'longitude': -122.275185}   \n",
      "17   {'latitude': 37.81728, 'longitude': -122.28366...   \n",
      "18   {'latitude': 37.81773833333333, 'longitude': -...   \n",
      "19   {'latitude': 37.83318666666666, 'longitude': -...   \n",
      "20   {'latitude': 37.81764166666667, 'longitude': -...   \n",
      "21   {'latitude': 37.817620000000005, 'longitude': ...   \n",
      "22   {'latitude': 37.82929166666667, 'longitude': -...   \n",
      "23   {'latitude': 37.83305333333333, 'longitude': -...   \n",
      "24   {'latitude': 37.817440000000005, 'longitude': ...   \n",
      "25   {'latitude': 37.82767833333333, 'longitude': -...   \n",
      "26   {'latitude': 37.82933833333333, 'longitude': -...   \n",
      "27   {'latitude': 37.83345, 'longitude': -122.26309...   \n",
      "28   {'latitude': 37.821464999999996, 'longitude': ...   \n",
      "29   {'latitude': 37.84014166666667, 'longitude': -...   \n",
      "..                                                 ...   \n",
      "220  {'latitude': 37.808125000000004, 'longitude': ...   \n",
      "221  {'latitude': 37.80486333333333, 'longitude': -...   \n",
      "222  {'latitude': 37.80195166666667, 'longitude': -...   \n",
      "223  {'latitude': 37.80463333333333, 'longitude': -...   \n",
      "224  {'latitude': 37.80712166666667, 'longitude': -...   \n",
      "225  {'latitude': 37.807930000000006, 'longitude': ...   \n",
      "226  {'latitude': 37.810516666666665, 'longitude': ...   \n",
      "227  {'latitude': 37.81051333333333, 'longitude': -...   \n",
      "228  {'latitude': 37.80469166666667, 'longitude': -...   \n",
      "229  {'latitude': 37.806808333333336, 'longitude': ...   \n",
      "230  {'latitude': 37.80498166666666, 'longitude': -...   \n",
      "231  {'latitude': 37.866825, 'longitude': -122.2590...   \n",
      "232  {'latitude': 37.80713333333333, 'longitude': -...   \n",
      "233  {'latitude': 37.805065, 'longitude': -122.269135}   \n",
      "234  {'latitude': 37.80247833333333, 'longitude': -...   \n",
      "235  {'latitude': 37.80576, 'longitude': -122.26735...   \n",
      "236  {'latitude': 37.80200691431556, 'longitude': -...   \n",
      "237   {'latitude': 37.80278, 'longitude': -122.273735}   \n",
      "238  {'latitude': 37.80277666666667, 'longitude': -...   \n",
      "239  {'latitude': 37.806538333333336, 'longitude': ...   \n",
      "240  {'latitude': 37.801545000000004, 'longitude': ...   \n",
      "241  {'latitude': 37.80649166666667, 'longitude': -...   \n",
      "242  {'latitude': 37.801429999999996, 'longitude': ...   \n",
      "243  {'latitude': 37.803775, 'longitude': -122.2704...   \n",
      "244  {'latitude': 37.80629333333333, 'longitude': -...   \n",
      "245  {'latitude': 37.80636166666667, 'longitude': -...   \n",
      "246  {'latitude': 37.802193333333335, 'longitude': ...   \n",
      "247   {'latitude': 37.807415, 'longitude': -122.26323}   \n",
      "248  {'latitude': 37.80172, 'longitude': -122.27549...   \n",
      "249  {'latitude': 37.802123333333334, 'longitude': ...   \n",
      "\n",
      "                           time  \n",
      "0    2018-11-08 15:59:49.451034  \n",
      "1    2018-11-08 15:59:49.451034  \n",
      "2    2018-11-08 15:59:49.451034  \n",
      "3    2018-11-08 15:59:49.451034  \n",
      "4    2018-11-08 15:59:49.451034  \n",
      "5    2018-11-08 15:59:49.451034  \n",
      "6    2018-11-08 15:59:49.451034  \n",
      "7    2018-11-08 15:59:49.451034  \n",
      "8    2018-11-08 15:59:49.451034  \n",
      "9    2018-11-08 15:59:49.451034  \n",
      "10   2018-11-08 15:59:49.451034  \n",
      "11   2018-11-08 15:59:49.451034  \n",
      "12   2018-11-08 15:59:49.451034  \n",
      "13   2018-11-08 15:59:49.451034  \n",
      "14   2018-11-08 15:59:49.451034  \n",
      "15   2018-11-08 15:59:49.451034  \n",
      "16   2018-11-08 15:59:49.451034  \n",
      "17   2018-11-08 15:59:49.451034  \n",
      "18   2018-11-08 15:59:49.451034  \n",
      "19   2018-11-08 15:59:49.451034  \n",
      "20   2018-11-08 15:59:49.451034  \n",
      "21   2018-11-08 15:59:49.451034  \n",
      "22   2018-11-08 15:59:49.451034  \n",
      "23   2018-11-08 15:59:49.451034  \n",
      "24   2018-11-08 15:59:49.451034  \n",
      "25   2018-11-08 15:59:49.451034  \n",
      "26   2018-11-08 15:59:49.451034  \n",
      "27   2018-11-08 15:59:49.451034  \n",
      "28   2018-11-08 15:59:49.451034  \n",
      "29   2018-11-08 15:59:49.451034  \n",
      "..                          ...  \n",
      "220  2018-11-08 15:59:49.451034  \n",
      "221  2018-11-08 15:59:49.451034  \n",
      "222  2018-11-08 15:59:49.451034  \n",
      "223  2018-11-08 15:59:49.451034  \n",
      "224  2018-11-08 15:59:49.451034  \n",
      "225  2018-11-08 15:59:49.451034  \n",
      "226  2018-11-08 15:59:49.451034  \n",
      "227  2018-11-08 15:59:49.451034  \n",
      "228  2018-11-08 15:59:49.451034  \n",
      "229  2018-11-08 15:59:49.451034  \n",
      "230  2018-11-08 15:59:49.451034  \n",
      "231  2018-11-08 15:59:49.451034  \n",
      "232  2018-11-08 15:59:49.451034  \n",
      "233  2018-11-08 15:59:49.451034  \n",
      "234  2018-11-08 15:59:49.451034  \n",
      "235  2018-11-08 15:59:49.451034  \n",
      "236  2018-11-08 15:59:49.451034  \n",
      "237  2018-11-08 15:59:49.451034  \n",
      "238  2018-11-08 15:59:49.451034  \n",
      "239  2018-11-08 15:59:49.451034  \n",
      "240  2018-11-08 15:59:49.451034  \n",
      "241  2018-11-08 15:59:49.451034  \n",
      "242  2018-11-08 15:59:49.451034  \n",
      "243  2018-11-08 15:59:49.451034  \n",
      "244  2018-11-08 15:59:49.451034  \n",
      "245  2018-11-08 15:59:49.451034  \n",
      "246  2018-11-08 15:59:49.451034  \n",
      "247  2018-11-08 15:59:49.451034  \n",
      "248  2018-11-08 15:59:49.451034  \n",
      "249  2018-11-08 15:59:49.451034  \n",
      "\n",
      "[250 rows x 6 columns]\n"
     ]
    },
    {
     "ename": "KeyboardInterrupt",
     "evalue": "",
     "output_type": "error",
     "traceback": [
      "\u001b[0;31m---------------------------------------------------------------------------\u001b[0m",
      "\u001b[0;31mKeyboardInterrupt\u001b[0m                         Traceback (most recent call last)",
      "\u001b[0;32m<ipython-input-154-773e3b7f2d92>\u001b[0m in \u001b[0;36m<module>\u001b[0;34m()\u001b[0m\n\u001b[0;32m----> 1\u001b[0;31m \u001b[0maccess_bird_api_30\u001b[0m\u001b[0;34m(\u001b[0m\u001b[0;34m)\u001b[0m\u001b[0;34m\u001b[0m\u001b[0m\n\u001b[0m",
      "\u001b[0;32m<ipython-input-153-e07d8df687b5>\u001b[0m in \u001b[0;36maccess_bird_api_30\u001b[0;34m()\u001b[0m\n\u001b[1;32m     39\u001b[0m \u001b[0;34m\u001b[0m\u001b[0m\n\u001b[1;32m     40\u001b[0m     \u001b[0;32mfor\u001b[0m \u001b[0mi\u001b[0m \u001b[0;32min\u001b[0m \u001b[0mrange\u001b[0m\u001b[0;34m(\u001b[0m\u001b[0mlen\u001b[0m\u001b[0;34m(\u001b[0m\u001b[0mlat_long\u001b[0m\u001b[0;34m)\u001b[0m\u001b[0;34m)\u001b[0m\u001b[0;34m:\u001b[0m\u001b[0;34m\u001b[0m\u001b[0m\n\u001b[0;32m---> 41\u001b[0;31m             \u001b[0msleep\u001b[0m\u001b[0;34m(\u001b[0m\u001b[0;36m4\u001b[0m\u001b[0;34m)\u001b[0m\u001b[0;34m\u001b[0m\u001b[0m\n\u001b[0m\u001b[1;32m     42\u001b[0m             \u001b[0;32mif\u001b[0m \u001b[0mi\u001b[0m \u001b[0;34m==\u001b[0m \u001b[0;36m1\u001b[0m\u001b[0;34m:\u001b[0m\u001b[0;34m\u001b[0m\u001b[0m\n\u001b[1;32m     43\u001b[0m                 \u001b[0;32mcontinue\u001b[0m\u001b[0;34m\u001b[0m\u001b[0m\n",
      "\u001b[0;31mKeyboardInterrupt\u001b[0m: "
     ]
    }
   ],
   "source": [
    "access_bird_api_30()"
   ]
  },
  {
   "cell_type": "code",
   "execution_count": null,
   "metadata": {},
   "outputs": [],
   "source": []
  }
 ],
 "metadata": {
  "kernelspec": {
   "display_name": "Python 3",
   "language": "python",
   "name": "python3"
  },
  "language_info": {
   "codemirror_mode": {
    "name": "ipython",
    "version": 3
   },
   "file_extension": ".py",
   "mimetype": "text/x-python",
   "name": "python",
   "nbconvert_exporter": "python",
   "pygments_lexer": "ipython3",
   "version": "3.6.5"
  }
 },
 "nbformat": 4,
 "nbformat_minor": 2
}
