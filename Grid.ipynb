{
 "cells": [
  {
   "cell_type": "code",
   "execution_count": 6,
   "metadata": {},
   "outputs": [],
   "source": [
    "import pandas as pd\n",
    "import geopandas as gpd\n",
    "from shapely.geometry import Polygon\n",
    "import numpy as np\n",
    "import ast\n",
    "from shapely.geometry import Point\n",
    "import matplotlib.pyplot as plt\n",
    "import contextily as ctx"
   ]
  },
  {
   "cell_type": "code",
   "execution_count": null,
   "metadata": {},
   "outputs": [],
   "source": [
    "def apply_gird(num_squares=[10,12], data='bird_data16.csv'):\n",
    "    '''\n",
    "    For every data point asign it to a square on the grid over the map of oakland using the lat/long\n",
    "    \n",
    "    num_squares (list) = height and width\n",
    "    \n",
    "    '''\n",
    "    \n",
    "    # Oakland center latitude\n",
    "    lat = 37.808136\n",
    "    # Oakland center longitude\n",
    "    lon = -122.256303\n",
    "    # width of squares\n",
    "    r = 0.0155\n",
    "    \n",
    "    north_west_corner = [lat+2*r, lon-2.5*r]\n",
    "    \n",
    "    height = 0.0775\n",
    "    width = 0.0930\n",
    "    \n",
    "    grid_square_height = height/num_squares[0]\n",
    "    grid_square_width = width/num_squares[1]\n",
    "    \n",
    "    whole_grid = []\n",
    "    \n",
    "    for i in range(len(num_squares[0]+1)):\n",
    "        for j in range(len(num_squares[1]+1):\n",
    "            whole_grid.append([i* grid_square_height, j*grid_square_width])\n",
    "    \n",
    "    \n",
    "    # determining squares\n",
    "    \n",
    "    # assigning squares\n",
    "    \n",
    "                       \n",
    "                       \n",
    "                       \n",
    "    for loc1 in range(len(num_squares[0]-1)):\n",
    "        if lat < whole_grid[loc1][0] and lon < whole_grid[loc1][1]\n",
    "    \n",
    "    \n",
    "    df = pd.read_csv(data)\n",
    "    \n",
    "    \n",
    "    \n",
    "    "
   ]
  },
  {
   "cell_type": "code",
   "execution_count": 10,
   "metadata": {},
   "outputs": [],
   "source": [
    "def add_lat_long(df):\n",
    "    loc_array = df['location']\n",
    "    \n",
    "    loc_list= []\n",
    "    for i in loc_array:\n",
    "        loc_list.append(ast.literal_eval(i))\n",
    "    \n",
    "    new_df = pd.concat([df, pd.DataFrame(loc_list)], axis=1)\n",
    "    return new_df"
   ]
  },
  {
   "cell_type": "code",
   "execution_count": 48,
   "metadata": {},
   "outputs": [
    {
     "name": "stderr",
     "output_type": "stream",
     "text": [
      "/Users/johnhayes/anaconda3/lib/python3.6/site-packages/IPython/core/interactiveshell.py:2785: DtypeWarning: Columns (0,1,2) have mixed types. Specify dtype option on import or set low_memory=False.\n",
      "  interactivity=interactivity, compiler=compiler, result=result)\n"
     ]
    }
   ],
   "source": [
    "df = pd.read_csv('bird_data.csv')\n",
    "df.drop(['code', 'captive'], axis=1, inplace=True)"
   ]
  },
  {
   "cell_type": "code",
   "execution_count": 49,
   "metadata": {},
   "outputs": [],
   "source": [
    "temp_df = df.head(200000)\n",
    "\n",
    "new_df = add_lat_long(temp_df)\n",
    "new_df['coordinates'] = list(zip(new_df.longitude, new_df.latitude))"
   ]
  },
  {
   "cell_type": "code",
   "execution_count": 59,
   "metadata": {},
   "outputs": [],
   "source": [
    "new_df['coordinates'] = new_df['coordinates'].apply(Point)\n",
    "gdf = gpd.GeoDataFrame(new_df, geometry='coordinates')\n",
    "#points = gpd.read_file('points.shp')\n",
    "\n",
    "\n",
    "xmin,ymin,xmax,ymax =  gdf.total_bounds\n",
    "width = .002\n",
    "height = .001\n",
    "rows = int(np.ceil((ymax-ymin) /  height))\n",
    "cols = int(np.ceil((xmax-xmin) / width))\n",
    "XleftOrigin = xmin\n",
    "XrightOrigin = xmin + width\n",
    "YtopOrigin = ymax\n",
    "YbottomOrigin = ymax- height\n",
    "polygons = []\n",
    "for i in range(cols):\n",
    "    Ytop = YtopOrigin\n",
    "    Ybottom =YbottomOrigin\n",
    "for j in range(rows):\n",
    "    polygons.append(Polygon([(XleftOrigin, Ytop), (XrightOrigin, Ytop), (XrightOrigin, Ybottom), (XleftOrigin, Ybottom)])) \n",
    "    Ytop = Ytop - height\n",
    "    Ybottom = Ybottom - height\n",
    "XleftOrigin = XleftOrigin + width\n",
    "XrightOrigin = XrightOrigin + width\n",
    "\n",
    "grid = gpd.GeoDataFrame({'geometry':polygons})\n",
    "grid.crs= {'init': 'epsg:4326'}"
   ]
  },
  {
   "cell_type": "code",
   "execution_count": 52,
   "metadata": {},
   "outputs": [
    {
     "data": {
      "text/html": [
       "<div>\n",
       "<style scoped>\n",
       "    .dataframe tbody tr th:only-of-type {\n",
       "        vertical-align: middle;\n",
       "    }\n",
       "\n",
       "    .dataframe tbody tr th {\n",
       "        vertical-align: top;\n",
       "    }\n",
       "\n",
       "    .dataframe thead th {\n",
       "        text-align: right;\n",
       "    }\n",
       "</style>\n",
       "<table border=\"1\" class=\"dataframe\">\n",
       "  <thead>\n",
       "    <tr style=\"text-align: right;\">\n",
       "      <th></th>\n",
       "      <th>battery_level</th>\n",
       "      <th>id</th>\n",
       "      <th>location</th>\n",
       "      <th>time</th>\n",
       "      <th>latitude</th>\n",
       "      <th>longitude</th>\n",
       "      <th>coordinates</th>\n",
       "    </tr>\n",
       "  </thead>\n",
       "  <tbody>\n",
       "  </tbody>\n",
       "</table>\n",
       "</div>"
      ],
      "text/plain": [
       "Empty DataFrame\n",
       "Columns: [battery_level, id, location, time, latitude, longitude, coordinates]\n",
       "Index: []"
      ]
     },
     "execution_count": 52,
     "metadata": {},
     "output_type": "execute_result"
    }
   ],
   "source": [
    "new_df.head(0)"
   ]
  },
  {
   "cell_type": "code",
   "execution_count": 62,
   "metadata": {},
   "outputs": [
    {
     "name": "stdout",
     "output_type": "stream",
     "text": [
      "  battery_level                                    id  \\\n",
      "0            44  cd6ff74b-cba6-49fe-b115-cec6066fe919   \n",
      "1            48  e20d8a6c-2453-494a-a083-00bad445b189   \n",
      "2            48  c8f9bed6-48bd-405d-a290-84bd0148a700   \n",
      "3            38  b7ac0ffe-77dd-40dc-82f1-cb59e0f6fb6b   \n",
      "4            81  7e9d6f7f-90ba-4205-b040-1c5025512467   \n",
      "\n",
      "                                            location  \\\n",
      "0  {'latitude': 37.845245, 'longitude': -122.2935...   \n",
      "1  {'latitude': 37.846000000000004, 'longitude': ...   \n",
      "2  {'latitude': 37.84542833333333, 'longitude': -...   \n",
      "3  {'latitude': 37.84618, 'longitude': -122.28023...   \n",
      "4  {'latitude': 37.829296666666664, 'longitude': ...   \n",
      "\n",
      "                         time   latitude   longitude  \\\n",
      "0  2018-11-09 00:55:30.991958  37.845245 -122.293503   \n",
      "1  2018-11-09 00:55:30.991958  37.846000 -122.295692   \n",
      "2  2018-11-09 00:55:30.991958  37.845428 -122.288238   \n",
      "3  2018-11-09 00:55:30.991958  37.846180 -122.280235   \n",
      "4  2018-11-09 00:55:30.991958  37.829297 -122.280830   \n",
      "\n",
      "                                    coordinates  \\\n",
      "0          POINT (-122.2935033333333 37.845245)   \n",
      "1             POINT (-122.2956916666667 37.846)   \n",
      "2  POINT (-122.2882383333333 37.84542833333333)   \n",
      "3                  POINT (-122.280235 37.84618)   \n",
      "4          POINT (-122.28083 37.82929666666666)   \n",
      "\n",
      "                                       geometry  index_right  \n",
      "0          POINT (-122.2935033333333 37.845245)          NaN  \n",
      "1             POINT (-122.2956916666667 37.846)          NaN  \n",
      "2  POINT (-122.2882383333333 37.84542833333333)          NaN  \n",
      "3                  POINT (-122.280235 37.84618)          NaN  \n",
      "4          POINT (-122.28083 37.82929666666666)          NaN  \n"
     ]
    }
   ],
   "source": [
    "import pandas\n",
    "import geopandas\n",
    "import geopandas.tools\n",
    "from shapely.geometry import Point\n",
    "\n",
    "# Create a DataFrame with some cities, including their location\n",
    "new_df\n",
    "\n",
    "#places = pandas.DataFrame(raw_data, columns=[\"name\", \"latitude\", \"longitude\"])\n",
    "\n",
    "# Create the geometry column from the coordinates\n",
    "# Remember that longitude is east-west (i.e. X) and latitude is north-south (i.e. Y)\n",
    "new_df[\"geometry\"] = new_df.apply(lambda row: Point(row[\"longitude\"], row[\"latitude\"]), axis=1)\n",
    "#del(new_df[\"latitude\"], new_df[\"longitude\"])\n",
    "\n",
    "# Convert to a GeoDataFrame\n",
    "new_df = geopandas.GeoDataFrame(new_df, geometry=\"geometry\")\n",
    "\n",
    "# Declare the coordinate system for the places GeoDataFrame\n",
    "# GeoPandas doesn't do any transformations automatically when performing\n",
    "# the spatial join. The layers are already in the same CRS (WGS84) so no\n",
    "# transformation is needed.\n",
    "new_df.crs = {'init': 'epsg:4326'}\n",
    "\n",
    "# Load the countries polygons\n",
    "#countries = geopandas.GeoDataFrame.from_file(\"ne_110m_admin_0_countries.shp\")\n",
    "grid\n",
    "# Drop all columns except the name and polygon geometry\n",
    "#countries = countries[[\"name\", \"geometry\"]]\n",
    "\n",
    "# Perform the spatial join\n",
    "result = geopandas.sjoin(new_df, grid, how=\"left\", op='intersects')\n",
    "\n",
    "# Print the results...\n",
    "print(result.head())"
   ]
  },
  {
   "cell_type": "code",
   "execution_count": 58,
   "metadata": {},
   "outputs": [
    {
     "name": "stdout",
     "output_type": "stream",
     "text": [
      "<class 'geopandas.geodataframe.GeoDataFrame'>\n",
      "RangeIndex: 123 entries, 0 to 122\n",
      "Data columns (total 1 columns):\n",
      "geometry    123 non-null object\n",
      "dtypes: object(1)\n",
      "memory usage: 1.0+ KB\n"
     ]
    }
   ],
   "source": [
    "grid.info()"
   ]
  },
  {
   "cell_type": "code",
   "execution_count": null,
   "metadata": {},
   "outputs": [],
   "source": []
  }
 ],
 "metadata": {
  "kernelspec": {
   "display_name": "Python 3",
   "language": "python",
   "name": "python3"
  },
  "language_info": {
   "codemirror_mode": {
    "name": "ipython",
    "version": 3
   },
   "file_extension": ".py",
   "mimetype": "text/x-python",
   "name": "python",
   "nbconvert_exporter": "python",
   "pygments_lexer": "ipython3",
   "version": "3.6.5"
  }
 },
 "nbformat": 4,
 "nbformat_minor": 2
}
