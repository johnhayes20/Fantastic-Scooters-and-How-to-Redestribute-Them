{
 "cells": [
  {
   "cell_type": "code",
   "execution_count": 68,
   "metadata": {},
   "outputs": [],
   "source": [
    "import json\n",
    "import ast\n",
    "import pandas as pd\n",
    "import numpy as np\n",
    "import matplotlib.pyplot as plt\n",
    "import matplotlib as mpl\n",
    "import folium\n",
    "from folium.plugins import MarkerCluster\n",
    "import datetime"
   ]
  },
  {
   "cell_type": "code",
   "execution_count": 69,
   "metadata": {},
   "outputs": [],
   "source": [
    "def get_data():\n",
    "\n",
    "    df = pd.read_csv('bird_data.csv')\n",
    "    df.drop(['code', 'captive'], axis=1, inplace=True)\n",
    "\n",
    "    temp_df = df.head(200000)\n",
    "\n",
    "    new_df = add_lat_long(temp_df)\n",
    "    new_df['count'] = 1\n",
    "    new_df['grid_location'] = 0\n",
    "    new_df.drop(['location'], axis=1, inplace=True)\n",
    "    return new_df"
   ]
  },
  {
   "cell_type": "code",
   "execution_count": 70,
   "metadata": {},
   "outputs": [],
   "source": [
    "def add_lat_long(df):\n",
    "    loc_array = df['location']\n",
    "    \n",
    "    loc_list= []\n",
    "    for i in loc_array:\n",
    "        loc_list.append(ast.literal_eval(i))\n",
    "    \n",
    "    df = pd.concat([df, pd.DataFrame(loc_list)], axis=1)\n",
    "    df['latitude'] = df['latitude'].round(5)\n",
    "    df['longitude'] = df['longitude'].round(5)\n",
    "    return df"
   ]
  },
  {
   "cell_type": "code",
   "execution_count": 71,
   "metadata": {},
   "outputs": [],
   "source": [
    "def get_geojson_grid(upper_right, lower_left, n=6):\n",
    "    \"\"\"Returns a grid of geojson rectangles, and computes the exposure in each section of the grid based on the vessel data.\n",
    "\n",
    "    Parameters\n",
    "    ----------\n",
    "    upper_right: array_like\n",
    "        The upper right hand corner of \"grid of grids\" (the default is the upper right hand [lat, lon] of the USA).\n",
    "\n",
    "    lower_left: array_like\n",
    "        The lower left hand corner of \"grid of grids\"  (the default is the lower left hand [lat, lon] of the USA).\n",
    "\n",
    "    n: integer\n",
    "        The number of rows/columns in the (n,n) grid.\n",
    "\n",
    "    Returns\n",
    "    -------\n",
    "\n",
    "    list\n",
    "        List of \"geojson style\" dictionary objects   \n",
    "    \"\"\"\n",
    "\n",
    "    all_boxes = []\n",
    "\n",
    "    lat_steps = np.linspace(lower_left[0], upper_right[0], n+1)\n",
    "    lon_steps = np.linspace(lower_left[1], upper_right[1], n+1)\n",
    "\n",
    "    lat_stride = lat_steps[1] - lat_steps[0]\n",
    "    lon_stride = lon_steps[1] - lon_steps[0]\n",
    "\n",
    "    for lat in lat_steps[:-1]:\n",
    "        for lon in lon_steps[:-1]:\n",
    "            # Define dimensions of box in grid\n",
    "            upper_left = [lon, lat + lat_stride]\n",
    "            upper_right = [lon + lon_stride, lat + lat_stride]\n",
    "            lower_right = [lon + lon_stride, lat]\n",
    "            lower_left = [lon, lat]\n",
    "\n",
    "            # Define json coordinates for polygon\n",
    "            coordinates = [\n",
    "                upper_left,\n",
    "                upper_right,\n",
    "                lower_right,\n",
    "                lower_left,\n",
    "                upper_left\n",
    "            ]\n",
    "\n",
    "            geo_json = {\"type\": \"FeatureCollection\",\n",
    "                        \"properties\":{\n",
    "                            \"lower_left\": lower_left,\n",
    "                            \"upper_right\": upper_right\n",
    "                        },\n",
    "                        \"features\":[]}\n",
    "\n",
    "            grid_feature = {\n",
    "                \"type\":\"Feature\",\n",
    "                \"geometry\":{\n",
    "                    \"type\":\"Polygon\",\n",
    "                    \"coordinates\": [coordinates],\n",
    "                }\n",
    "            }\n",
    "\n",
    "            geo_json[\"features\"].append(grid_feature)\n",
    "\n",
    "            all_boxes.append(geo_json)\n",
    "\n",
    "    return all_boxes"
   ]
  },
  {
   "cell_type": "code",
   "execution_count": 142,
   "metadata": {},
   "outputs": [],
   "source": [
    "def add_grid_location(df, n=42):\n",
    "    \n",
    "    '''\n",
    "    Assigns each data point to a location on the grid according to its lat/long\n",
    "    '''\n",
    "    \n",
    "    top_right = [df['latitude'].max(), df['longitude'].max()]\n",
    "    top_left = [df['latitude'].min(), df['longitude'].min()]\n",
    "    \n",
    "    grid = get_geojson_grid(top_right, top_left, n)\n",
    "    \n",
    "    for i, box in enumerate(grid):\n",
    "        upper_right = box[\"properties\"][\"upper_right\"]\n",
    "        lower_left = box[\"properties\"][\"lower_left\"]\n",
    "    \n",
    "        mask = (\n",
    "            (df.latitude <= upper_right[1]) & (df.latitude >= lower_left[1]) &\n",
    "            (df.longitude <= upper_right[0]) & (df.longitude >= lower_left[0])\n",
    "           )\n",
    "    \n",
    "        column_name = 'grid_location'\n",
    "        df.loc[mask, column_name] = i\n",
    "    \n",
    "    return df"
   ]
  },
  {
   "cell_type": "code",
   "execution_count": 73,
   "metadata": {},
   "outputs": [],
   "source": [
    "def add_time_chunk(df):\n",
    "    df['time_chunk'] = 0\n",
    "    for i, time in enumerate(df['time'].unique()):\n",
    "        df['time_chunk'][df['time'] == time] = i\n",
    "    return df"
   ]
  },
  {
   "cell_type": "code",
   "execution_count": 74,
   "metadata": {},
   "outputs": [],
   "source": [
    "def add_day_of_week(df):\n",
    "    df['date'] = pd.to_datetime(df['time']).dt.round(\"D\")\n",
    "    df['day_of_week'] = df['date'].dt.day_name()\n",
    "    \n",
    "    return df"
   ]
  },
  {
   "cell_type": "code",
   "execution_count": 75,
   "metadata": {},
   "outputs": [],
   "source": [
    "def add_rounded_time(df, interval=15):\n",
    "    '''\n",
    "    Adds a column with the rounded time to the interval specified.\n",
    "    \n",
    "    '''\n",
    "    df['rounded_time'] = pd.to_datetime(df['time']).dt.round('15min')  \n",
    "    #df['rounded_time'] = pd.to_datetime(df['time']).dt.round(\"Min\").apply(lambda dt: datetime.datetime(dt.year, dt.month, dt.day, dt.hour,15*round((float(dt.minute) + float(dt.second)/60) / interval)))\n",
    "    #df['rounded_time'] = pd.Series([val.time() for val in df['rounded_time']])\n",
    "    \n",
    "    df_time = pd.to_datetime(df[\"rounded_time\"])\n",
    "\n",
    "    df['rounded_time'] = df_time.dt.hour*60+df_time.dt.minute*60 + df_time.dt.second\n",
    "    \n",
    "    \n",
    "    return df"
   ]
  },
  {
   "cell_type": "code",
   "execution_count": 76,
   "metadata": {},
   "outputs": [],
   "source": [
    "def add_wait_time(df):\n",
    "    '''\n",
    "    Adds a column that tells how long a scooter has been waiting in a location\n",
    "    \n",
    "    '''\n",
    "    final_df = pd.DataFrame()\n",
    "    for i in range(len(df['id'].unique())):\n",
    "        \n",
    "        # set this df to all the data points with the same id\n",
    "        temp_df = df[df['id'] == df['id'].unique()[i]]\n",
    "        \n",
    "        \n",
    "        for j in range(len(temp_df['latitude'].unique())):\n",
    "            \n",
    "            # set this df to iterate through all of the unique lats from the temp data set\n",
    "            same_lat_long_df = temp_df[temp_df['latitude'] == temp_df['latitude'].iloc[j]]\n",
    "        \n",
    "            # create new column 'wait_time' that is the difference in time between the first and last datapoints\n",
    "            same_lat_long_df['wait_time'] = pd.to_datetime(same_lat_long_df['time']).iloc[-1] - pd.to_datetime(same_lat_long_df['time']).iloc[0]\n",
    "            \n",
    "            #append the new column to the output df\n",
    "            final_df = final_df.append(same_lat_long_df)\n",
    "    \n",
    "    return final_df\n"
   ]
  },
  {
   "cell_type": "code",
   "execution_count": 77,
   "metadata": {},
   "outputs": [],
   "source": [
    "def drop_repeated_data(df):\n",
    "    '''\n",
    "    Removes repeated data based on id and rounded_time - this should cut the data down by more than half\n",
    "    '''\n",
    "    \n",
    "    df.drop_duplicates(subset=['id','rounded_time'], keep='first', inplace=True)\n",
    "    return df"
   ]
  },
  {
   "cell_type": "code",
   "execution_count": 151,
   "metadata": {},
   "outputs": [
    {
     "name": "stderr",
     "output_type": "stream",
     "text": [
      "/Users/johnhayes/anaconda3/lib/python3.6/site-packages/IPython/core/interactiveshell.py:2903: DtypeWarning: Columns (0,1,2) have mixed types. Specify dtype option on import or set low_memory=False.\n",
      "  if self.run_code(code, result):\n"
     ]
    },
    {
     "data": {
      "text/html": [
       "<div>\n",
       "<style scoped>\n",
       "    .dataframe tbody tr th:only-of-type {\n",
       "        vertical-align: middle;\n",
       "    }\n",
       "\n",
       "    .dataframe tbody tr th {\n",
       "        vertical-align: top;\n",
       "    }\n",
       "\n",
       "    .dataframe thead th {\n",
       "        text-align: right;\n",
       "    }\n",
       "</style>\n",
       "<table border=\"1\" class=\"dataframe\">\n",
       "  <thead>\n",
       "    <tr style=\"text-align: right;\">\n",
       "      <th></th>\n",
       "      <th>battery_level</th>\n",
       "      <th>id</th>\n",
       "      <th>time</th>\n",
       "      <th>latitude</th>\n",
       "      <th>longitude</th>\n",
       "      <th>count</th>\n",
       "      <th>grid_location</th>\n",
       "      <th>rounded_time</th>\n",
       "    </tr>\n",
       "  </thead>\n",
       "  <tbody>\n",
       "    <tr>\n",
       "      <th>0</th>\n",
       "      <td>44</td>\n",
       "      <td>cd6ff74b-cba6-49fe-b115-cec6066fe919</td>\n",
       "      <td>2018-11-09 00:55:30.991958</td>\n",
       "      <td>37.84524</td>\n",
       "      <td>-122.29350</td>\n",
       "      <td>1</td>\n",
       "      <td>0</td>\n",
       "      <td>60</td>\n",
       "    </tr>\n",
       "    <tr>\n",
       "      <th>1</th>\n",
       "      <td>48</td>\n",
       "      <td>e20d8a6c-2453-494a-a083-00bad445b189</td>\n",
       "      <td>2018-11-09 00:55:30.991958</td>\n",
       "      <td>37.84600</td>\n",
       "      <td>-122.29569</td>\n",
       "      <td>1</td>\n",
       "      <td>0</td>\n",
       "      <td>60</td>\n",
       "    </tr>\n",
       "    <tr>\n",
       "      <th>2</th>\n",
       "      <td>48</td>\n",
       "      <td>c8f9bed6-48bd-405d-a290-84bd0148a700</td>\n",
       "      <td>2018-11-09 00:55:30.991958</td>\n",
       "      <td>37.84543</td>\n",
       "      <td>-122.28824</td>\n",
       "      <td>1</td>\n",
       "      <td>0</td>\n",
       "      <td>60</td>\n",
       "    </tr>\n",
       "    <tr>\n",
       "      <th>3</th>\n",
       "      <td>38</td>\n",
       "      <td>b7ac0ffe-77dd-40dc-82f1-cb59e0f6fb6b</td>\n",
       "      <td>2018-11-09 00:55:30.991958</td>\n",
       "      <td>37.84618</td>\n",
       "      <td>-122.28023</td>\n",
       "      <td>1</td>\n",
       "      <td>0</td>\n",
       "      <td>60</td>\n",
       "    </tr>\n",
       "    <tr>\n",
       "      <th>4</th>\n",
       "      <td>81</td>\n",
       "      <td>7e9d6f7f-90ba-4205-b040-1c5025512467</td>\n",
       "      <td>2018-11-09 00:55:30.991958</td>\n",
       "      <td>37.82930</td>\n",
       "      <td>-122.28083</td>\n",
       "      <td>1</td>\n",
       "      <td>0</td>\n",
       "      <td>60</td>\n",
       "    </tr>\n",
       "  </tbody>\n",
       "</table>\n",
       "</div>"
      ],
      "text/plain": [
       "  battery_level                                    id  \\\n",
       "0            44  cd6ff74b-cba6-49fe-b115-cec6066fe919   \n",
       "1            48  e20d8a6c-2453-494a-a083-00bad445b189   \n",
       "2            48  c8f9bed6-48bd-405d-a290-84bd0148a700   \n",
       "3            38  b7ac0ffe-77dd-40dc-82f1-cb59e0f6fb6b   \n",
       "4            81  7e9d6f7f-90ba-4205-b040-1c5025512467   \n",
       "\n",
       "                         time  latitude  longitude  count  grid_location  \\\n",
       "0  2018-11-09 00:55:30.991958  37.84524 -122.29350      1              0   \n",
       "1  2018-11-09 00:55:30.991958  37.84600 -122.29569      1              0   \n",
       "2  2018-11-09 00:55:30.991958  37.84543 -122.28824      1              0   \n",
       "3  2018-11-09 00:55:30.991958  37.84618 -122.28023      1              0   \n",
       "4  2018-11-09 00:55:30.991958  37.82930 -122.28083      1              0   \n",
       "\n",
       "   rounded_time  \n",
       "0            60  \n",
       "1            60  \n",
       "2            60  \n",
       "3            60  \n",
       "4            60  "
      ]
     },
     "execution_count": 151,
     "metadata": {},
     "output_type": "execute_result"
    }
   ],
   "source": [
    "df = get_data()\n",
    "df = add_rounded_time(df)\n",
    "df = drop_repeated_data(df)\n",
    "df.head()"
   ]
  },
  {
   "cell_type": "code",
   "execution_count": null,
   "metadata": {},
   "outputs": [],
   "source": []
  },
  {
   "cell_type": "code",
   "execution_count": 150,
   "metadata": {},
   "outputs": [
    {
     "data": {
      "text/plain": [
       "2717"
      ]
     },
     "execution_count": 150,
     "metadata": {},
     "output_type": "execute_result"
    }
   ],
   "source": [
    "len(df)"
   ]
  },
  {
   "cell_type": "code",
   "execution_count": 152,
   "metadata": {},
   "outputs": [
    {
     "name": "stdout",
     "output_type": "stream",
     "text": [
      "<class 'pandas.core.frame.DataFrame'>\n",
      "Int64Index: 2717 entries, 0 to 199600\n",
      "Data columns (total 10 columns):\n",
      "battery_level    2717 non-null object\n",
      "id               2717 non-null object\n",
      "time             2717 non-null object\n",
      "latitude         2717 non-null float64\n",
      "longitude        2717 non-null float64\n",
      "count            2717 non-null int64\n",
      "grid_location    2717 non-null int64\n",
      "rounded_time     2717 non-null int64\n",
      "date             2717 non-null datetime64[ns]\n",
      "day_of_week      2717 non-null object\n",
      "dtypes: datetime64[ns](1), float64(2), int64(3), object(4)\n",
      "memory usage: 233.5+ KB\n"
     ]
    }
   ],
   "source": [
    "df = add_day_of_week(df)\n",
    "df = add_grid_location(df)\n",
    "#df = add_wait_time(df)\n",
    "df.info()"
   ]
  },
  {
   "cell_type": "code",
   "execution_count": 153,
   "metadata": {},
   "outputs": [
    {
     "data": {
      "text/plain": [
       "False"
      ]
     },
     "execution_count": 153,
     "metadata": {},
     "output_type": "execute_result"
    }
   ],
   "source": [
    "df.isnull().values.any()"
   ]
  },
  {
   "cell_type": "code",
   "execution_count": 86,
   "metadata": {},
   "outputs": [],
   "source": [
    "def grid_count(df, n=42):\n",
    "    '''\n",
    "    For a given time, day of the week create df of number of scooters in each grid location\n",
    "    '''\n",
    "    \n",
    "    new_df = pd.DataFrame()\n",
    "    for unique_date in df['date'].unique():\n",
    "        for unique_rounded_time in df['rounded_time'].unique():\n",
    "            for unique_grid_location in range(n**2):\n",
    "                if ((df['date'] == unique_date) & (df['rounded_time'] == unique_rounded_time) & (df['grid_location'] == unique_grid_location)).any():\n",
    "                    continue\n",
    "                else:\n",
    "                    #print (unique_grid_location)\n",
    "                    new_df = new_df.append({'rounded_time':unique_rounded_time, 'grid_location':unique_grid_location, 'date':unique_date}, ignore_index=True)\n",
    "    new_df['grid_location'] = new_df['grid_location'].astype(int)                \n",
    "    \n",
    "    df3 = pd.concat([df,new_df])\n",
    "    df3 = df3.fillna(0)\n",
    "    df3 = df3.sort_values(by='grid_location')\n",
    "    #for a given date and rounded time - check to see if there is a grid location, if not set count to 0.\n",
    "    \n",
    "    #df3 = df3.groupby(['rounded_time', 'grid_location', 'day_of_week', 'date']).size().reset_index(name='counts')\n",
    "    #df = df.groupby(['grid_location']).agg(['count'])\n",
    "    return df3"
   ]
  },
  {
   "cell_type": "code",
   "execution_count": 87,
   "metadata": {},
   "outputs": [],
   "source": [
    "#df.head()"
   ]
  },
  {
   "cell_type": "code",
   "execution_count": 154,
   "metadata": {},
   "outputs": [
    {
     "name": "stderr",
     "output_type": "stream",
     "text": [
      "/Users/johnhayes/anaconda3/lib/python3.6/site-packages/ipykernel_launcher.py:17: FutureWarning: Sorting because non-concatenation axis is not aligned. A future version\n",
      "of pandas will change to not sort by default.\n",
      "\n",
      "To accept the future behavior, pass 'sort=True'.\n",
      "\n",
      "To retain the current behavior and silence the warning, pass sort=False\n",
      "\n"
     ]
    }
   ],
   "source": [
    "new_df = grid_count(df)\n",
    "new_df\n",
    "#df3 = pd.concat([df,new_df])\n",
    "#df3.drop_duplicates(subset=['grid_location', 'col3'], inplace=True, keep='last')\n",
    "new_df = new_df.groupby(['rounded_time', 'grid_location', 'date'], as_index=False)[['count']].sum()"
   ]
  },
  {
   "cell_type": "code",
   "execution_count": 156,
   "metadata": {},
   "outputs": [
    {
     "data": {
      "text/html": [
       "<div>\n",
       "<style scoped>\n",
       "    .dataframe tbody tr th:only-of-type {\n",
       "        vertical-align: middle;\n",
       "    }\n",
       "\n",
       "    .dataframe tbody tr th {\n",
       "        vertical-align: top;\n",
       "    }\n",
       "\n",
       "    .dataframe thead th {\n",
       "        text-align: right;\n",
       "    }\n",
       "</style>\n",
       "<table border=\"1\" class=\"dataframe\">\n",
       "  <thead>\n",
       "    <tr style=\"text-align: right;\">\n",
       "      <th></th>\n",
       "      <th>rounded_time_x</th>\n",
       "      <th>grid_location</th>\n",
       "      <th>date_x</th>\n",
       "      <th>count_x</th>\n",
       "      <th>rounded_time_y</th>\n",
       "      <th>date_y</th>\n",
       "      <th>count_y</th>\n",
       "    </tr>\n",
       "  </thead>\n",
       "  <tbody>\n",
       "    <tr>\n",
       "      <th>7056</th>\n",
       "      <td>960.0</td>\n",
       "      <td>0</td>\n",
       "      <td>2018-11-09</td>\n",
       "      <td>0.0</td>\n",
       "      <td>60.0</td>\n",
       "      <td>2018-11-09</td>\n",
       "      <td>0.0</td>\n",
       "    </tr>\n",
       "    <tr>\n",
       "      <th>14112</th>\n",
       "      <td>1860.0</td>\n",
       "      <td>0</td>\n",
       "      <td>2018-11-09</td>\n",
       "      <td>0.0</td>\n",
       "      <td>60.0</td>\n",
       "      <td>2018-11-09</td>\n",
       "      <td>0.0</td>\n",
       "    </tr>\n",
       "    <tr>\n",
       "      <th>14113</th>\n",
       "      <td>1860.0</td>\n",
       "      <td>0</td>\n",
       "      <td>2018-11-09</td>\n",
       "      <td>0.0</td>\n",
       "      <td>960.0</td>\n",
       "      <td>2018-11-09</td>\n",
       "      <td>0.0</td>\n",
       "    </tr>\n",
       "    <tr>\n",
       "      <th>21168</th>\n",
       "      <td>2760.0</td>\n",
       "      <td>0</td>\n",
       "      <td>2018-11-09</td>\n",
       "      <td>0.0</td>\n",
       "      <td>60.0</td>\n",
       "      <td>2018-11-09</td>\n",
       "      <td>0.0</td>\n",
       "    </tr>\n",
       "    <tr>\n",
       "      <th>21169</th>\n",
       "      <td>2760.0</td>\n",
       "      <td>0</td>\n",
       "      <td>2018-11-09</td>\n",
       "      <td>0.0</td>\n",
       "      <td>960.0</td>\n",
       "      <td>2018-11-09</td>\n",
       "      <td>0.0</td>\n",
       "    </tr>\n",
       "    <tr>\n",
       "      <th>21170</th>\n",
       "      <td>2760.0</td>\n",
       "      <td>0</td>\n",
       "      <td>2018-11-09</td>\n",
       "      <td>0.0</td>\n",
       "      <td>1860.0</td>\n",
       "      <td>2018-11-09</td>\n",
       "      <td>0.0</td>\n",
       "    </tr>\n",
       "  </tbody>\n",
       "</table>\n",
       "</div>"
      ],
      "text/plain": [
       "       rounded_time_x  grid_location     date_x  count_x  rounded_time_y  \\\n",
       "7056            960.0              0 2018-11-09      0.0            60.0   \n",
       "14112          1860.0              0 2018-11-09      0.0            60.0   \n",
       "14113          1860.0              0 2018-11-09      0.0           960.0   \n",
       "21168          2760.0              0 2018-11-09      0.0            60.0   \n",
       "21169          2760.0              0 2018-11-09      0.0           960.0   \n",
       "21170          2760.0              0 2018-11-09      0.0          1860.0   \n",
       "\n",
       "          date_y  count_y  \n",
       "7056  2018-11-09      0.0  \n",
       "14112 2018-11-09      0.0  \n",
       "14113 2018-11-09      0.0  \n",
       "21168 2018-11-09      0.0  \n",
       "21169 2018-11-09      0.0  \n",
       "21170 2018-11-09      0.0  "
      ]
     },
     "execution_count": 156,
     "metadata": {},
     "output_type": "execute_result"
    }
   ],
   "source": [
    "#new_df = new_df.groupby(['rounded_time', 'grid_location', 'date'])['count'].sum()\n",
    "new_df.copy()\n",
    "merge_df = pd.merge(new_df,new_df,how='left', left_on='grid_location', right_on='grid_location')\n",
    "double_merge = merge_df[merge_df['rounded_time_x']>merge_df['rounded_time_y']]\n",
    "double_merge[double_merge['grid_location']==0]\n",
    "#merge_df\n",
    "\n",
    "#THIS WILL NOT WORK FOR MULTIPLE DAYS - NEEDS COLUMN FOR SECONDS SINCE EPOCH"
   ]
  },
  {
   "cell_type": "code",
   "execution_count": 158,
   "metadata": {},
   "outputs": [],
   "source": [
    "#For Categorical - set count to 1 or 0 depending on if there are any scooters there\n",
    "\n",
    "new_df.loc[(new_df['count'] >= 1), 'count'] =1"
   ]
  },
  {
   "cell_type": "code",
   "execution_count": 159,
   "metadata": {},
   "outputs": [
    {
     "data": {
      "text/html": [
       "<div>\n",
       "<style scoped>\n",
       "    .dataframe tbody tr th:only-of-type {\n",
       "        vertical-align: middle;\n",
       "    }\n",
       "\n",
       "    .dataframe tbody tr th {\n",
       "        vertical-align: top;\n",
       "    }\n",
       "\n",
       "    .dataframe thead th {\n",
       "        text-align: right;\n",
       "    }\n",
       "</style>\n",
       "<table border=\"1\" class=\"dataframe\">\n",
       "  <thead>\n",
       "    <tr style=\"text-align: right;\">\n",
       "      <th></th>\n",
       "      <th>rounded_time</th>\n",
       "      <th>grid_location</th>\n",
       "      <th>count</th>\n",
       "    </tr>\n",
       "  </thead>\n",
       "  <tbody>\n",
       "    <tr>\n",
       "      <th>count</th>\n",
       "      <td>7056.000000</td>\n",
       "      <td>7056.000000</td>\n",
       "      <td>7056.000000</td>\n",
       "    </tr>\n",
       "    <tr>\n",
       "      <th>mean</th>\n",
       "      <td>1410.000000</td>\n",
       "      <td>881.500000</td>\n",
       "      <td>0.127409</td>\n",
       "    </tr>\n",
       "    <tr>\n",
       "      <th>std</th>\n",
       "      <td>1006.301901</td>\n",
       "      <td>509.258944</td>\n",
       "      <td>0.333455</td>\n",
       "    </tr>\n",
       "    <tr>\n",
       "      <th>min</th>\n",
       "      <td>60.000000</td>\n",
       "      <td>0.000000</td>\n",
       "      <td>0.000000</td>\n",
       "    </tr>\n",
       "    <tr>\n",
       "      <th>25%</th>\n",
       "      <td>735.000000</td>\n",
       "      <td>440.750000</td>\n",
       "      <td>0.000000</td>\n",
       "    </tr>\n",
       "    <tr>\n",
       "      <th>50%</th>\n",
       "      <td>1410.000000</td>\n",
       "      <td>881.500000</td>\n",
       "      <td>0.000000</td>\n",
       "    </tr>\n",
       "    <tr>\n",
       "      <th>75%</th>\n",
       "      <td>2085.000000</td>\n",
       "      <td>1322.250000</td>\n",
       "      <td>0.000000</td>\n",
       "    </tr>\n",
       "    <tr>\n",
       "      <th>max</th>\n",
       "      <td>2760.000000</td>\n",
       "      <td>1763.000000</td>\n",
       "      <td>1.000000</td>\n",
       "    </tr>\n",
       "  </tbody>\n",
       "</table>\n",
       "</div>"
      ],
      "text/plain": [
       "       rounded_time  grid_location        count\n",
       "count   7056.000000    7056.000000  7056.000000\n",
       "mean    1410.000000     881.500000     0.127409\n",
       "std     1006.301901     509.258944     0.333455\n",
       "min       60.000000       0.000000     0.000000\n",
       "25%      735.000000     440.750000     0.000000\n",
       "50%     1410.000000     881.500000     0.000000\n",
       "75%     2085.000000    1322.250000     0.000000\n",
       "max     2760.000000    1763.000000     1.000000"
      ]
     },
     "execution_count": 159,
     "metadata": {},
     "output_type": "execute_result"
    }
   ],
   "source": [
    "new_df.describe()"
   ]
  },
  {
   "cell_type": "code",
   "execution_count": 160,
   "metadata": {},
   "outputs": [],
   "source": [
    "from sklearn.model_selection import train_test_split\n",
    "from sklearn.linear_model import LinearRegression\n",
    "from sklearn.model_selection import TimeSeriesSplit\n",
    "from sklearn.neighbors import KNeighborsClassifier\n",
    "from sklearn.metrics import recall_score\n",
    "import matplotlib.pyplot as plt"
   ]
  },
  {
   "cell_type": "code",
   "execution_count": 161,
   "metadata": {},
   "outputs": [
    {
     "name": "stdout",
     "output_type": "stream",
     "text": [
      "0.9240362811791383\n",
      "0.6008583690987125\n"
     ]
    },
    {
     "data": {
      "image/png": "[encoded data removed]",
      "text/plain": [
       "<Figure size 432x288 with 1 Axes>"
      ]
     },
     "metadata": {},
     "output_type": "display_data"
    }
   ],
   "source": [
    "xdf = new_df.drop(['date'], axis=1)\n",
    "\n",
    "\n",
    "neigh = KNeighborsClassifier(n_neighbors=3)\n",
    "\n",
    "y = xdf['count']\n",
    "X = xdf.drop('count', axis=1)\n",
    "\n",
    "X_train, X_test, y_train, y_test = train_test_split(X, y, shuffle=False)\n",
    "\n",
    "#print(X)\n",
    "\n",
    "neigh.fit(X_train, y_train)\n",
    "\n",
    "y_pred = neigh.predict(X_test).reshape(-1, 1)\n",
    "y_test = np.array(y_test).reshape(-1, 1)\n",
    "\n",
    "print(neigh.score(X_test, y_test))\n",
    "print(recall_score(y_test, y_pred))\n",
    "plt.hist(xdf['count']);"
   ]
  },
  {
   "cell_type": "code",
   "execution_count": 133,
   "metadata": {},
   "outputs": [],
   "source": [
    "def MVP(df):\n",
    "    '''\n",
    "    even more mvp than mvp\n",
    "    '''\n",
    "    \n",
    "    y = df['count']\n",
    "    X = df.drop('count', axis=1)\n",
    "    \n",
    "    X_train, X_test, y_train, y_test = train_test_split(X, y, shuffle=False)\n",
    "    \n",
    "    \n",
    "    linreg=LinearRegression()\n",
    "    linreg.fit(X_train, y_train)\n",
    "    \n",
    "    y_pred = linreg.predict(X_test).reshape(-1,1)\n",
    "    y_test = np.array(y_test).reshape(-1,1)\n",
    "    \n",
    "    #print(y_pred - y_test)\n",
    "    print (np.shape(y_pred), np.shape(y_test))\n",
    "    \n",
    "    print(recall_score(y_test, y_pred))\n",
    "    return linreg.score(X_test, y_test)\n"
   ]
  },
  {
   "cell_type": "code",
   "execution_count": 134,
   "metadata": {},
   "outputs": [],
   "source": [
    "xdf = new_df.drop(['date'], axis=1)"
   ]
  },
  {
   "cell_type": "code",
   "execution_count": 135,
   "metadata": {},
   "outputs": [
    {
     "name": "stdout",
     "output_type": "stream",
     "text": [
      "(1764, 1) (1764, 1)\n"
     ]
    },
    {
     "ename": "ValueError",
     "evalue": "Classification metrics can't handle a mix of binary and continuous targets",
     "output_type": "error",
     "traceback": [
      "\u001b[0;31m---------------------------------------------------------------------------\u001b[0m",
      "\u001b[0;31mValueError\u001b[0m                                Traceback (most recent call last)",
      "\u001b[0;32m<ipython-input-135-fcaff46f7fcf>\u001b[0m in \u001b[0;36m<module>\u001b[0;34m()\u001b[0m\n\u001b[0;32m----> 1\u001b[0;31m \u001b[0mMVP\u001b[0m\u001b[0;34m(\u001b[0m\u001b[0mxdf\u001b[0m\u001b[0;34m)\u001b[0m\u001b[0;34m\u001b[0m\u001b[0m\n\u001b[0m",
      "\u001b[0;32m<ipython-input-133-fd9e5199e0c6>\u001b[0m in \u001b[0;36mMVP\u001b[0;34m(df)\u001b[0m\n\u001b[1;32m     19\u001b[0m     \u001b[0mprint\u001b[0m \u001b[0;34m(\u001b[0m\u001b[0mnp\u001b[0m\u001b[0;34m.\u001b[0m\u001b[0mshape\u001b[0m\u001b[0;34m(\u001b[0m\u001b[0my_pred\u001b[0m\u001b[0;34m)\u001b[0m\u001b[0;34m,\u001b[0m \u001b[0mnp\u001b[0m\u001b[0;34m.\u001b[0m\u001b[0mshape\u001b[0m\u001b[0;34m(\u001b[0m\u001b[0my_test\u001b[0m\u001b[0;34m)\u001b[0m\u001b[0;34m)\u001b[0m\u001b[0;34m\u001b[0m\u001b[0m\n\u001b[1;32m     20\u001b[0m \u001b[0;34m\u001b[0m\u001b[0m\n\u001b[0;32m---> 21\u001b[0;31m     \u001b[0mprint\u001b[0m\u001b[0;34m(\u001b[0m\u001b[0mrecall_score\u001b[0m\u001b[0;34m(\u001b[0m\u001b[0my_test\u001b[0m\u001b[0;34m,\u001b[0m \u001b[0my_pred\u001b[0m\u001b[0;34m)\u001b[0m\u001b[0;34m)\u001b[0m\u001b[0;34m\u001b[0m\u001b[0m\n\u001b[0m\u001b[1;32m     22\u001b[0m     \u001b[0;32mreturn\u001b[0m \u001b[0mlinreg\u001b[0m\u001b[0;34m.\u001b[0m\u001b[0mscore\u001b[0m\u001b[0;34m(\u001b[0m\u001b[0mX_test\u001b[0m\u001b[0;34m,\u001b[0m \u001b[0my_test\u001b[0m\u001b[0;34m)\u001b[0m\u001b[0;34m\u001b[0m\u001b[0m\n",
      "\u001b[0;32m~/anaconda3/lib/python3.6/site-packages/sklearn/metrics/classification.py\u001b[0m in \u001b[0;36mrecall_score\u001b[0;34m(y_true, y_pred, labels, pos_label, average, sample_weight)\u001b[0m\n\u001b[1;32m   1357\u001b[0m                                                  \u001b[0maverage\u001b[0m\u001b[0;34m=\u001b[0m\u001b[0maverage\u001b[0m\u001b[0;34m,\u001b[0m\u001b[0;34m\u001b[0m\u001b[0m\n\u001b[1;32m   1358\u001b[0m                                                  \u001b[0mwarn_for\u001b[0m\u001b[0;34m=\u001b[0m\u001b[0;34m(\u001b[0m\u001b[0;34m'recall'\u001b[0m\u001b[0;34m,\u001b[0m\u001b[0;34m)\u001b[0m\u001b[0;34m,\u001b[0m\u001b[0;34m\u001b[0m\u001b[0m\n\u001b[0;32m-> 1359\u001b[0;31m                                                  sample_weight=sample_weight)\n\u001b[0m\u001b[1;32m   1360\u001b[0m     \u001b[0;32mreturn\u001b[0m \u001b[0mr\u001b[0m\u001b[0;34m\u001b[0m\u001b[0m\n\u001b[1;32m   1361\u001b[0m \u001b[0;34m\u001b[0m\u001b[0m\n",
      "\u001b[0;32m~/anaconda3/lib/python3.6/site-packages/sklearn/metrics/classification.py\u001b[0m in \u001b[0;36mprecision_recall_fscore_support\u001b[0;34m(y_true, y_pred, beta, labels, pos_label, average, warn_for, sample_weight)\u001b[0m\n\u001b[1;32m   1023\u001b[0m         \u001b[0;32mraise\u001b[0m \u001b[0mValueError\u001b[0m\u001b[0;34m(\u001b[0m\u001b[0;34m\"beta should be >0 in the F-beta score\"\u001b[0m\u001b[0;34m)\u001b[0m\u001b[0;34m\u001b[0m\u001b[0m\n\u001b[1;32m   1024\u001b[0m \u001b[0;34m\u001b[0m\u001b[0m\n\u001b[0;32m-> 1025\u001b[0;31m     \u001b[0my_type\u001b[0m\u001b[0;34m,\u001b[0m \u001b[0my_true\u001b[0m\u001b[0;34m,\u001b[0m \u001b[0my_pred\u001b[0m \u001b[0;34m=\u001b[0m \u001b[0m_check_targets\u001b[0m\u001b[0;34m(\u001b[0m\u001b[0my_true\u001b[0m\u001b[0;34m,\u001b[0m \u001b[0my_pred\u001b[0m\u001b[0;34m)\u001b[0m\u001b[0;34m\u001b[0m\u001b[0m\n\u001b[0m\u001b[1;32m   1026\u001b[0m     \u001b[0mpresent_labels\u001b[0m \u001b[0;34m=\u001b[0m \u001b[0munique_labels\u001b[0m\u001b[0;34m(\u001b[0m\u001b[0my_true\u001b[0m\u001b[0;34m,\u001b[0m \u001b[0my_pred\u001b[0m\u001b[0;34m)\u001b[0m\u001b[0;34m\u001b[0m\u001b[0m\n\u001b[1;32m   1027\u001b[0m \u001b[0;34m\u001b[0m\u001b[0m\n",
      "\u001b[0;32m~/anaconda3/lib/python3.6/site-packages/sklearn/metrics/classification.py\u001b[0m in \u001b[0;36m_check_targets\u001b[0;34m(y_true, y_pred)\u001b[0m\n\u001b[1;32m     79\u001b[0m     \u001b[0;32mif\u001b[0m \u001b[0mlen\u001b[0m\u001b[0;34m(\u001b[0m\u001b[0my_type\u001b[0m\u001b[0;34m)\u001b[0m \u001b[0;34m>\u001b[0m \u001b[0;36m1\u001b[0m\u001b[0;34m:\u001b[0m\u001b[0;34m\u001b[0m\u001b[0m\n\u001b[1;32m     80\u001b[0m         raise ValueError(\"Classification metrics can't handle a mix of {0} \"\n\u001b[0;32m---> 81\u001b[0;31m                          \"and {1} targets\".format(type_true, type_pred))\n\u001b[0m\u001b[1;32m     82\u001b[0m \u001b[0;34m\u001b[0m\u001b[0m\n\u001b[1;32m     83\u001b[0m     \u001b[0;31m# We can't have more than one value on y_type => The set is no more needed\u001b[0m\u001b[0;34m\u001b[0m\u001b[0;34m\u001b[0m\u001b[0m\n",
      "\u001b[0;31mValueError\u001b[0m: Classification metrics can't handle a mix of binary and continuous targets"
     ]
    }
   ],
   "source": [
    "MVP(xdf)"
   ]
  },
  {
   "cell_type": "code",
   "execution_count": null,
   "metadata": {},
   "outputs": [],
   "source": [
    "from sklearn.model_selection import TimeSeriesSplit\n",
    "\n",
    "y = df['count']\n",
    "X = df.loc[:, df.columns != 'count']\n",
    "\n",
    "tscv = TimeSeriesSplit(n_splits=5)\n",
    "print(tscv)  \n",
    "TimeSeriesSplit(max_train_size=None, n_splits=5)\n",
    "for train_index, test_index in tscv.split(X):\n",
    "    print(\"TRAIN:\", train_index, \"TEST:\", test_index)\n",
    "    X_train, X_test = X.iloc([train_index]), X.iloc([test_index])\n",
    "    y_train, y_test = y[train_index], y[test_index]\n"
   ]
  },
  {
   "cell_type": "code",
   "execution_count": null,
   "metadata": {},
   "outputs": [],
   "source": [
    "X = np.array([[1, 2], [3, 4], [1, 2], [3, 4],[1, 2], [3, 4],[3, 4],[1, 2],     [3, 4],[3, 4],[1, 2], [3, 4] ])\n",
    "y = np.array([1, 2, 3, 4, 5, 6,7,8,9,10,11,12])\n",
    "tscv = TimeSeriesSplit(n_splits=int((len(y)-3)/3))\n",
    "for train_index, test_index in tscv.split(X):\n",
    "    print(\"TRAIN:\", train_index, \"TEST:\", test_index)\n",
    "\n",
    "    #To get the indices \n",
    "    X_train, X_test = X[train_index], X[test_index]\n",
    "    y_train, y_test = y[train_index], y[test_index]"
   ]
  },
  {
   "cell_type": "code",
   "execution_count": null,
   "metadata": {},
   "outputs": [],
   "source": []
  }
 ],
 "metadata": {
  "kernelspec": {
   "display_name": "Python 3",
   "language": "python",
   "name": "python3"
  },
  "language_info": {
   "codemirror_mode": {
    "name": "ipython",
    "version": 3
   },
   "file_extension": ".py",
   "mimetype": "text/x-python",
   "name": "python",
   "nbconvert_exporter": "python",
   "pygments_lexer": "ipython3",
   "version": "3.6.5"
  }
 },
 "nbformat": 4,
 "nbformat_minor": 2
}
